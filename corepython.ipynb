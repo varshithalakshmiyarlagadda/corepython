{
  "cells": [
    {
      "cell_type": "markdown",
      "metadata": {
        "id": "view-in-github",
        "colab_type": "text"
      },
      "source": [
        "<a href=\"https://colab.research.google.com/github/varshithalakshmiyarlagadda/corepython/blob/main/corepython.ipynb\" target=\"_parent\"><img src=\"https://colab.research.google.com/assets/colab-badge.svg\" alt=\"Open In Colab\"/></a>"
      ]
    },
    {
      "cell_type": "code",
      "execution_count": null,
      "metadata": {
        "colab": {
          "base_uri": "https://localhost:8080/"
        },
        "id": "sZwE__9qAkcw",
        "outputId": "aa3442af-f3c0-465f-8c63-3c28b9484f9d"
      },
      "outputs": [
        {
          "name": "stdout",
          "output_type": "stream",
          "text": [
            "welcome to python\n"
          ]
        }
      ],
      "source": [
        "#program to print a statement\n",
        "print(\"welcome to python\")"
      ]
    },
    {
      "cell_type": "code",
      "execution_count": null,
      "metadata": {
        "colab": {
          "base_uri": "https://localhost:8080/"
        },
        "id": "CiaYFBunA79k",
        "outputId": "9465a365-fb5e-4b33-b9ba-a114984cf491"
      },
      "outputs": [
        {
          "name": "stdout",
          "output_type": "stream",
          "text": [
            "nipuna technologies\n",
            "vijayawada\n",
            "guntur\n"
          ]
        }
      ],
      "source": [
        "#program to print multiple statement\n",
        "print(\"nipuna technologies\")\n",
        "print(\"vijayawada\")\n",
        "print(\"guntur\")"
      ]
    },
    {
      "cell_type": "code",
      "execution_count": null,
      "metadata": {
        "colab": {
          "base_uri": "https://localhost:8080/"
        },
        "id": "DHyA-QnUBc_D",
        "outputId": "aaba1048-df61-453c-897d-0a947603407b"
      },
      "outputs": [
        {
          "name": "stdout",
          "output_type": "stream",
          "text": [
            "varshi\n",
            "varshi\n",
            "varshi\n",
            "'varshi'\n",
            "varshi\n"
          ]
        }
      ],
      "source": [
        "#program to print a statements with different punctuations\n",
        "print(\"varshi\")\n",
        "print('varshi')\n",
        "print(\"\"\"varshi\"\"\")\n",
        "print(\"'varshi'\")\n",
        "print(\"\"'varshi'\"\")"
      ]
    },
    {
      "cell_type": "code",
      "execution_count": null,
      "metadata": {
        "id": "12yhqLZ7MAg_",
        "outputId": "2471fe32-b66a-4598-e50c-a1132f2db500"
      },
      "outputs": [
        {
          "name": "stdout",
          "output_type": "stream",
          "text": [
            "varshi\n",
            "varshi\n",
            "varshi\n",
            "'varshi'\n",
            "varshi\n"
          ]
        }
      ],
      "source": [
        "#program to print a statements with different punctuations\n",
        "print(\"varshi\")\n",
        "print('varshi')\n",
        "print(\"\"\"varshi\"\"\")\n",
        "print(\"'varshi'\")\n",
        "print(\"\"'varshi'\"\")"
      ]
    },
    {
      "cell_type": "code",
      "execution_count": null,
      "metadata": {
        "colab": {
          "base_uri": "https://localhost:8080/"
        },
        "id": "BuTtb0Al0jwi",
        "outputId": "f11ec00e-f5a8-4f9c-939a-401ef99b1b6d"
      },
      "outputs": [
        {
          "name": "stdout",
          "output_type": "stream",
          "text": [
            "happynewyear2023\n"
          ]
        }
      ],
      "source": [
        "#program to splif a statement to different line\n",
        "print(\"happy\\\n",
        "new\\\n",
        "year\\\n",
        "2023\")"
      ]
    },
    {
      "cell_type": "code",
      "execution_count": null,
      "metadata": {
        "colab": {
          "base_uri": "https://localhost:8080/"
        },
        "id": "KdmD7GzIF5LW",
        "outputId": "93aaae68-f21b-4d8b-86fa-8463ffa2de38"
      },
      "outputs": [
        {
          "name": "stdout",
          "output_type": "stream",
          "text": [
            "value in variable age = 45\n"
          ]
        }
      ],
      "source": [
        "#program to initialize value in a variable and print it\n",
        "age=45\n",
        "print(\"value in variable age =\",age)"
      ]
    },
    {
      "cell_type": "code",
      "execution_count": null,
      "metadata": {
        "colab": {
          "base_uri": "https://localhost:8080/"
        },
        "id": "oZ7AIhpMHCC8",
        "outputId": "dbfbf3ca-aeb0-4294-9ddd-30bd1276471d"
      },
      "outputs": [
        {
          "name": "stdout",
          "output_type": "stream",
          "text": [
            "age= 45\n",
            "data type= <class 'int'>\n",
            "size= 28\n",
            "address= 0x7944430d8670\n"
          ]
        }
      ],
      "source": [
        "#program to initlallze value in a variable and print if ,type,size and address\n",
        "import sys\n",
        "age=45\n",
        "print(\"age=\",age)\n",
        "print(\"data type=\",type(age))\n",
        "print(\"size=\",sys.getsizeof(age))\n",
        "print(\"address=\",hex(id(age)))"
      ]
    },
    {
      "cell_type": "code",
      "execution_count": null,
      "metadata": {
        "colab": {
          "base_uri": "https://localhost:8080/"
        },
        "id": "B63vH7tmIEfa",
        "outputId": "ba066e39-5286-4ce1-c9cd-f54453368e89"
      },
      "outputs": [
        {
          "name": "stdout",
          "output_type": "stream",
          "text": [
            "x= 65\n",
            "binary= 0b1000001\n",
            "hex= 0x41\n",
            "octal= 0o101\n"
          ]
        }
      ],
      "source": [
        "x=65\n",
        "print(\"x=\",x)\n",
        "print(\"binary=\",bin(x))\n",
        "print(\"hex=\",hex(x))\n",
        "print(\"octal=\",oct(x))"
      ]
    },
    {
      "cell_type": "code",
      "execution_count": null,
      "metadata": {
        "colab": {
          "base_uri": "https://localhost:8080/"
        },
        "id": "2PCqe9PXIs1H",
        "outputId": "0adced1b-5d80-4b7d-de8b-af06aa237850"
      },
      "outputs": [
        {
          "name": "stdout",
          "output_type": "stream",
          "text": [
            "ch= a\n",
            "asci= 97\n",
            "binary= 0b1100001\n",
            "hex= 0x61\n",
            "octal= 0o141\n"
          ]
        }
      ],
      "source": [
        "ch='a'\n",
        "print(\"ch=\",ch)\n",
        "print(\"asci=\",ord(ch))\n",
        "print(\"binary=\",bin(ord(ch)))\n",
        "print(\"hex=\",hex(ord(ch)))\n",
        "print(\"octal=\",oct(ord(ch)))"
      ]
    },
    {
      "cell_type": "code",
      "execution_count": null,
      "metadata": {
        "colab": {
          "base_uri": "https://localhost:8080/"
        },
        "id": "JpK6ym96Ju5F",
        "outputId": "78615fa5-0d6b-403a-a069-7b5689330f42"
      },
      "outputs": [
        {
          "name": "stdout",
          "output_type": "stream",
          "text": [
            "character= A\n"
          ]
        }
      ],
      "source": [
        "#convert ascii to character\n",
        "x=65\n",
        "print(\"character=\",chr(x))"
      ]
    },
    {
      "cell_type": "code",
      "execution_count": null,
      "metadata": {
        "colab": {
          "base_uri": "https://localhost:8080/"
        },
        "id": "LkYW26zTJ7Z4",
        "outputId": "78863c90-89a8-4137-8527-c35130a1cf1d"
      },
      "outputs": [
        {
          "name": "stdout",
          "output_type": "stream",
          "text": [
            "values before swapa= 5 \t b= 3\n",
            "value after swapa= 3 \t b= 5\n"
          ]
        }
      ],
      "source": [
        "#swapping\n",
        "a,b=5,3\n",
        "print(\"values before swap\"\"a=\",a,\"\\t\",\"b=\",b)\n",
        "a,b=b,a\n",
        "print(\"value after swap\"\"a=\",a,\"\\t\",\"b=\",b)\n"
      ]
    },
    {
      "cell_type": "code",
      "execution_count": null,
      "metadata": {
        "colab": {
          "base_uri": "https://localhost:8080/"
        },
        "id": "9LheooqtLW2o",
        "outputId": "7a6e4041-877f-422c-ea34-2778c1ef39f2"
      },
      "outputs": [
        {
          "name": "stdout",
          "output_type": "stream",
          "text": [
            "............\n",
            "\\book details\n",
            "code= b101\n",
            "name= unix\n",
            "price= 456.75\n",
            "printcode= u\n",
            "availability= True\n",
            "...............\n"
          ]
        }
      ],
      "source": [
        "#program to store value in variable and print and print it\n",
        "bcode=\"b101\"\n",
        "bno=101\n",
        "bname=\"unix\"\n",
        "bprice=456.75\n",
        "bpcode=\"u\"\n",
        "bav=True\n",
        "print(\"............\")\n",
        "print(\"\\\\book details\")\n",
        "print(\"code=\",bcode)\n",
        "print(\"name=\",bname)\n",
        "print(\"price=\",bprice)\n",
        "print(\"printcode=\",bpcode)\n",
        "print(\"availability=\",bav)\n",
        "print(\"...............\")"
      ]
    },
    {
      "cell_type": "code",
      "execution_count": null,
      "metadata": {
        "colab": {
          "base_uri": "https://localhost:8080/"
        },
        "id": "thVJxO6IM7Jl",
        "outputId": "8bd2328e-9bfd-4dae-9273-c985af937bde"
      },
      "outputs": [
        {
          "name": "stdout",
          "output_type": "stream",
          "text": [
            "addition= 8\n",
            "substration= 2\n",
            "multipication= 15\n",
            "division= 1.6666666666666667\n",
            "floordivision= 1\n",
            "modulus= 2\n",
            "exponentiation= 125\n"
          ]
        }
      ],
      "source": [
        "#arithimetical operators\n",
        "a,b=5,3\n",
        "print(\"addition=\",(a+b))\n",
        "print(\"substration=\",(a-b))\n",
        "print(\"multipication=\",(a*b))\n",
        "print(\"division=\",(a/b))\n",
        "print(\"floordivision=\",(a//b))\n",
        "print(\"modulus=\",(a%b))\n",
        "print(\"exponentiation=\",(a**b))"
      ]
    },
    {
      "cell_type": "code",
      "execution_count": null,
      "metadata": {
        "colab": {
          "base_uri": "https://localhost:8080/"
        },
        "id": "1NYPhiKTOh1t",
        "outputId": "abac52a6-56a0-472c-bbe5-a1d22ff6fdad"
      },
      "outputs": [
        {
          "name": "stdout",
          "output_type": "stream",
          "text": [
            "enter your name..:varshi\n",
            "your name= varshi\n",
            "datatype= <class 'str'>\n"
          ]
        }
      ],
      "source": [
        "#program to input a value from the keybord slove it in a variable and print if\n",
        "name=input(\"enter your name..:\")\n",
        "print(\"your name=\",name)\n",
        "print(\"datatype=\",type(name))"
      ]
    },
    {
      "cell_type": "code",
      "execution_count": null,
      "metadata": {
        "colab": {
          "base_uri": "https://localhost:8080/"
        },
        "id": "icO02Bh6XaWR",
        "outputId": "0f31c551-140d-4d90-b0b6-bd583789d713"
      },
      "outputs": [
        {
          "name": "stdout",
          "output_type": "stream",
          "text": [
            "enter your age in numbers..:45\n",
            "your name= 45\n",
            "data type= <class 'str'>\n"
          ]
        }
      ],
      "source": [
        "#program to input a value from the keyboard convert it store it in a variable and print it\n",
        "age=input(\"enter your age in numbers..:\")\n",
        "print(\"your name=\",age)\n",
        "print(\"data type=\",type(age))"
      ]
    },
    {
      "cell_type": "code",
      "execution_count": null,
      "metadata": {
        "colab": {
          "base_uri": "https://localhost:8080/"
        },
        "id": "I3iKi6GKYNdK",
        "outputId": "a7617efc-4962-4613-b5b6-7e3df22b9ebf"
      },
      "outputs": [
        {
          "name": "stdout",
          "output_type": "stream",
          "text": [
            "enter a..:10\n",
            "enter b..:5\n",
            "addition= 15\n",
            "substration= 5\n",
            "multipication= 50\n",
            "floor division= 2.0\n",
            "modules= 0\n",
            "exponentation= 100000\n"
          ]
        }
      ],
      "source": [
        "#arithmatical opratons\n",
        "a=int(input(\"enter a..:\"))\n",
        "b=int(input(\"enter b..:\"))\n",
        "c=a+b\n",
        "print(\"addition=\",c)\n",
        "c=a-b\n",
        "print(\"substration=\",c)\n",
        "c=a*b\n",
        "print(\"multipication=\",c)\n",
        "c=a/b\n",
        "print(\"floor division=\",c)\n",
        "c=a%b\n",
        "print(\"modules=\",c)\n",
        "c=a**b\n",
        "print(\"exponentation=\",c)"
      ]
    },
    {
      "cell_type": "code",
      "execution_count": null,
      "metadata": {
        "colab": {
          "base_uri": "https://localhost:8080/"
        },
        "id": "cbDH98bhakja",
        "outputId": "c7ce4d1d-3346-4c40-cc6d-b5f4931e409b"
      },
      "outputs": [
        {
          "name": "stdout",
          "output_type": "stream",
          "text": [
            "enter length..:5\n",
            "enter length..:7\n",
            "area of reclangle 12\n"
          ]
        }
      ],
      "source": [
        "#program to calculate area of ractangle\n",
        "l=int(input(\"enter length..:\"))\n",
        "b=int(input(\"enter length..:\"))\n",
        "a=l+b\n",
        "print(\"area of reclangle\",a)"
      ]
    },
    {
      "cell_type": "code",
      "execution_count": null,
      "metadata": {
        "colab": {
          "base_uri": "https://localhost:8080/"
        },
        "id": "QyARalIw_Nc0",
        "outputId": "5303e23a-e8e4-4dc7-dd00-9e2aca334246"
      },
      "outputs": [
        {
          "name": "stdout",
          "output_type": "stream",
          "text": [
            "enter radius..:20\n",
            "circum ference of circle= 125.66370614359172\n",
            "area of circle= 1256.6370614359173\n"
          ]
        }
      ],
      "source": [
        "#program to calculate circum ference and area of circle\n",
        "import math\n",
        "r=int(input(\"enter radius..:\"))\n",
        "c=2*math.pi*r\n",
        "print(\"circum ference of circle=\",c)\n",
        "a=math.pi*r*r\n",
        "print(\"area of circle=\",a)"
      ]
    },
    {
      "cell_type": "code",
      "execution_count": null,
      "metadata": {
        "colab": {
          "base_uri": "https://localhost:8080/"
        },
        "id": "wKzWYJeebNLJ",
        "outputId": "635c45b0-bfee-4d1a-900c-ca0b3989c7f3"
      },
      "outputs": [
        {
          "name": "stdout",
          "output_type": "stream",
          "text": [
            "enter radius..:25\n",
            "enter time..:15\n",
            "enter rate of interst..:10\n",
            "simple interest= 37.5\n",
            "compound interst= 51.97320448528422\n",
            "enter temperature in fanrenheit..:5\n",
            "celsivs= 51.97320448528422\n",
            "enter temperature in c exsivs..:9\n",
            "fahrenheat= 48.2\n"
          ]
        }
      ],
      "source": [
        "#program to calculate simple and compound interest\n",
        "p=float(input(\"enter radius..:\"))\n",
        "t=float(input(\"enter time..:\"))\n",
        "r=float(input(\"enter rate of interst..:\"))\n",
        "si=p*t*r/100\n",
        "print(\"simple interest=\",si)\n",
        "ci=p*pow(1+5/100,t)\n",
        "print(\"compound interst=\",ci)\n",
        "f=int(input(\"enter temperature in fanrenheit..:\"))\n",
        "c=f-32*5/9\n",
        "print(\"celsivs=\",ci)\n",
        "ci=int(input(\"enter temperature in c exsivs..:\"))\n",
        "f=(ci*9/5)+32\n",
        "print(\"fahrenheat=\",f)"
      ]
    },
    {
      "cell_type": "code",
      "execution_count": null,
      "metadata": {
        "colab": {
          "base_uri": "https://localhost:8080/"
        },
        "id": "S2qu-ne8eZRD",
        "outputId": "860cfda8-748a-4236-ae7a-f76d9bba84a4"
      },
      "outputs": [
        {
          "name": "stdout",
          "output_type": "stream",
          "text": [
            "enter student number..:37\n",
            "enter student name..:varsi\n",
            "enter student class..:10\n",
            "enter student section..:a\n",
            "enter m1..:25\n",
            "enter m2..:24\n",
            "enter m3..:23\n",
            "enter m4..:25\n",
            "enter m5..:24\n",
            "enter m6..:23\n",
            ".................\n",
            "\t marks report\n",
            ".....................\n",
            "sno= 37 \t sname= varsi\n",
            "sclass= 10 \t ssec= a\n",
            ".................\n",
            "........................\n",
            "\n",
            " m1= 25 \t m2= 24\n",
            "\n",
            " m3= 23 \t m4= 25\n",
            "\n",
            " m5= 24 \t m6= 23\n",
            ".............\n",
            "total marks= 144\n",
            "percentage= 24.0\n",
            "............\n"
          ]
        }
      ],
      "source": [
        "sno=input(\"enter student number..:\")\n",
        "sname=input(\"enter student name..:\")\n",
        "sclass=input(\"enter student class..:\")\n",
        "ssec=input(\"enter student section..:\")\n",
        "m1=int(input(\"enter m1..:\"))\n",
        "m2=int(input(\"enter m2..:\"))\n",
        "m3=int(input(\"enter m3..:\"))\n",
        "m4=int(input(\"enter m4..:\"))\n",
        "m5=int(input(\"enter m5..:\"))\n",
        "m6=int(input(\"enter m6..:\"))\n",
        "tot=m1+m2+m3+m4+m5+m6\n",
        "avg=tot/6\n",
        "print(\".................\")\n",
        "print(\"\\t marks report\")\n",
        "print(\".....................\")\n",
        "print(\"sno=\",sno,\"\\t\",\"sname=\",sname)\n",
        "print(\"sclass=\",sclass,\"\\t\",\"ssec=\",ssec)\n",
        "print(\".................\")\n",
        "print(\"........................\")\n",
        "print(\"\\n m1=\",m1,\"\\t\",\"m2=\",m2)\n",
        "print(\"\\n m3=\",m3,\"\\t\",\"m4=\",m4)\n",
        "print(\"\\n m5=\",m5,\"\\t\",\"m6=\",m6)\n",
        "print(\".............\")\n",
        "print(\"total marks=\",tot)\n",
        "print(\"percentage=\",avg)\n",
        "print(\"............\")"
      ]
    },
    {
      "cell_type": "code",
      "execution_count": null,
      "metadata": {
        "colab": {
          "base_uri": "https://localhost:8080/"
        },
        "id": "9lPKkEG5jYkN",
        "outputId": "d904287e-b1c3-429d-ad5f-95601bc78838"
      },
      "outputs": [
        {
          "name": "stdout",
          "output_type": "stream",
          "text": [
            "enter a..:20\n",
            "enter b..:15\n",
            "a is big\n"
          ]
        }
      ],
      "source": [
        "#if\n",
        "a=int(input(\"enter a..:\"))\n",
        "b=int(input(\"enter b..:\"))\n",
        "if(a>b):\n",
        "  print(\"a is big\")"
      ]
    },
    {
      "cell_type": "code",
      "execution_count": null,
      "metadata": {
        "colab": {
          "base_uri": "https://localhost:8080/"
        },
        "id": "wodswGS6dqcd",
        "outputId": "7b6cbe69-2904-42ae-8615-e86a495f3e71"
      },
      "outputs": [
        {
          "name": "stdout",
          "output_type": "stream",
          "text": [
            "enter a..:20\n",
            "enter b..:25\n",
            "b is big\n"
          ]
        }
      ],
      "source": [
        "#if else\n",
        "a=int(input(\"enter a..:\"))\n",
        "b=int(input(\"enter b..:\"))\n",
        "if(a>b):\n",
        "  print(\"a is big\")\n",
        "else:\n",
        "  print(\"b is big\")"
      ]
    },
    {
      "cell_type": "code",
      "execution_count": null,
      "metadata": {
        "colab": {
          "base_uri": "https://localhost:8080/"
        },
        "id": "Zx_OPRQb07_L",
        "outputId": "f1637dec-a4a9-4e33-b2c2-c75eb0afa9f7"
      },
      "outputs": [
        {
          "name": "stdout",
          "output_type": "stream",
          "text": [
            "enter a..:10\n",
            "enter b..:15\n",
            "b is big\n"
          ]
        }
      ],
      "source": [
        "#elif\n",
        "a=int(input(\"enter a..:\"))\n",
        "b=int(input(\"enter b..:\"))\n",
        "if(a>b):\n",
        "  print(\"a is big\")\n",
        "elif(a<b):\n",
        "  print(\"b is big\")"
      ]
    },
    {
      "cell_type": "code",
      "execution_count": null,
      "metadata": {
        "colab": {
          "base_uri": "https://localhost:8080/"
        },
        "id": "u4oo-MnH1sXy",
        "outputId": "c9813a6b-9abd-4de0-bd85-7eaf16e36ca7"
      },
      "outputs": [
        {
          "name": "stdout",
          "output_type": "stream",
          "text": [
            "enter a..:15\n",
            "enter b..:15\n",
            "both are equal\n"
          ]
        }
      ],
      "source": [
        "#elif ladder\n",
        "a=int(input(\"enter a..:\"))\n",
        "b=int(input(\"enter b..:\"))\n",
        "if(a>b):\n",
        "  print(\"a is big\")\n",
        "elif(a<b):\n",
        "  print(\"b is big\")\n",
        "elif(a==b):\n",
        "  print(\"both are equal\")\n",
        "else:\n",
        "  print(\"both are equal\")"
      ]
    },
    {
      "cell_type": "code",
      "execution_count": null,
      "metadata": {
        "colab": {
          "base_uri": "https://localhost:8080/"
        },
        "id": "bCct-riH3DID",
        "outputId": "45e051ee-237f-4c44-e51e-cb2cb670b8a1"
      },
      "outputs": [
        {
          "name": "stdout",
          "output_type": "stream",
          "text": [
            "enter a number..:25\n",
            "zero\n",
            "negitive\n"
          ]
        }
      ],
      "source": [
        "#nested if\n",
        "x=int(input(\"enter a number..:\"))\n",
        "if(\"x,s=0\"):\n",
        "  if(\"x==0\"):\n",
        "    print(\"zero\")\n",
        "else:\n",
        "  print(\"positive\")\n",
        "print(\"negitive\")"
      ]
    },
    {
      "cell_type": "code",
      "execution_count": null,
      "metadata": {
        "colab": {
          "base_uri": "https://localhost:8080/"
        },
        "id": "A-Xtkbcs90Td",
        "outputId": "3f9c12e0-d054-47ce-e64d-49f3305a7c89"
      },
      "outputs": [
        {
          "name": "stdout",
          "output_type": "stream",
          "text": [
            "enter a..:25\n",
            "enter b..:20\n",
            "25 is big\n"
          ]
        }
      ],
      "source": [
        "#conditional opertor or terinar operator\n",
        "a=int(input(\"enter a..:\"))\n",
        "b=int(input(\"enter b..:\"))\n",
        "t=a if a>b else b\n",
        "print(t,\"is big\")"
      ]
    },
    {
      "cell_type": "code",
      "execution_count": null,
      "metadata": {
        "colab": {
          "base_uri": "https://localhost:8080/"
        },
        "id": "_-IcR5vR-kLO",
        "outputId": "3f716956-0501-4619-90b2-3e84fdfb906e"
      },
      "outputs": [
        {
          "name": "stdout",
          "output_type": "stream",
          "text": [
            "enter a..:24\n",
            "enter b..:23\n",
            "enter c..:35\n",
            "enter d..:15\n",
            "enter e..:27\n",
            "X is big\n"
          ]
        }
      ],
      "source": [
        "a=int(input(\"enter a..:\"))\n",
        "b=int(input(\"enter b..:\"))\n",
        "c=int(input(\"enter c..:\"))\n",
        "d=int(input(\"enter d..:\"))\n",
        "e=int(input(\"enter e..:\"))\n",
        "x=a\n",
        "if(b>x):x=b\n",
        "if(c>x):x=c\n",
        "if(d>x):x=d\n",
        "if(e>x):x=e\n",
        "print(\"X is big\")"
      ]
    },
    {
      "cell_type": "code",
      "execution_count": null,
      "metadata": {
        "colab": {
          "base_uri": "https://localhost:8080/"
        },
        "id": "2EhpkUgoBGKO",
        "outputId": "d2339097-41a1-49ee-b2d3-a9816f895ab4"
      },
      "outputs": [
        {
          "name": "stdout",
          "output_type": "stream",
          "text": [
            "enter a..:20\n",
            "enter b..:15\n",
            "enter c..:25\n",
            "c is big\n"
          ]
        }
      ],
      "source": [
        "#largest of 3 numbers\n",
        "a=int(input(\"enter a..:\"))\n",
        "b=int(input(\"enter b..:\"))\n",
        "c=int(input(\"enter c..:\"))\n",
        "if(a>b and a>c):\n",
        "  print(\"a is big\")\n",
        "elif(b>a and b>c):\n",
        "  print(\"b is big\")\n",
        "else:\n",
        "  print(\"c is big\")"
      ]
    },
    {
      "cell_type": "code",
      "execution_count": null,
      "metadata": {
        "colab": {
          "base_uri": "https://localhost:8080/"
        },
        "id": "62rXfgO9CVen",
        "outputId": "c8b57b64-a07a-4cff-eb39-1c3a75ca322d"
      },
      "outputs": [
        {
          "name": "stdout",
          "output_type": "stream",
          "text": [
            "enter a number25\n",
            "odd number\n"
          ]
        }
      ],
      "source": [
        "x=int(input(\"enter a number\"))\n",
        "if(x%2==0):\n",
        "  print(\"even number\")\n",
        "else:\n",
        "  print(\"odd number\")"
      ]
    },
    {
      "cell_type": "code",
      "execution_count": null,
      "metadata": {
        "colab": {
          "base_uri": "https://localhost:8080/"
        },
        "id": "XiKcTzmFC67B",
        "outputId": "9f83a048-225f-4542-de08-ae21dfbc0f1f"
      },
      "outputs": [
        {
          "name": "stdout",
          "output_type": "stream",
          "text": [
            "enter your age..:20\n",
            "major citizen\n",
            "elizible to vote\n"
          ]
        }
      ],
      "source": [
        "age=int(input(\"enter your age..:\"))\n",
        "if(age>=65):\n",
        "  print(\"senior citzen\")\n",
        "  print(\"elizible tovote\")\n",
        "elif(age<65 and age>=18):\n",
        "  print(\"major citizen\")\n",
        "  print(\"elizible to vote\")\n",
        "elif(age<18):\n",
        "  print(\"minor citizen\")\n",
        "  print(\"not elizible to vote\")"
      ]
    },
    {
      "cell_type": "code",
      "execution_count": null,
      "metadata": {
        "colab": {
          "base_uri": "https://localhost:8080/"
        },
        "id": "3vG93kXUJI7a",
        "outputId": "909edafc-b6c0-4c1b-9d31-3a18650afce2"
      },
      "outputs": [
        {
          "name": "stdout",
          "output_type": "stream",
          "text": [
            "enter a..:24\n",
            "enter b..:15\n",
            "enter c..:25\n",
            "second largest number=a\n"
          ]
        }
      ],
      "source": [
        "a=int(input(\"enter a..:\"))\n",
        "b=int(input(\"enter b..:\"))\n",
        "c=int(input(\"enter c..:\"))\n",
        "if(a>=b and a>=c):\n",
        " if(b>=c):\n",
        "  print(\"second largest number=b\")\n",
        " else:\n",
        "  print(\"second largest number=c\")\n",
        "elif b>=a and b>=a:\n",
        " if a>=c:\n",
        "  print(\"second largest number=a\")\n",
        " else:\n",
        "  print(\"second largest number=c\")\n",
        "else:\n",
        " if a>=b:\n",
        "   print(\"second largest number=a\")\n",
        " else:\n",
        "   print(\"second largest number=b\")"
      ]
    },
    {
      "cell_type": "code",
      "execution_count": null,
      "metadata": {
        "colab": {
          "base_uri": "https://localhost:8080/"
        },
        "id": "hpQZ9DQGQNiw",
        "outputId": "8406bb3d-f663-42d3-83a8-60a59efa418a"
      },
      "outputs": [
        {
          "name": "stdout",
          "output_type": "stream",
          "text": [
            "enter a year..:1999\n",
            "not\n"
          ]
        }
      ],
      "source": [
        "y=int(input(\"enter a year..:\"))\n",
        "if(y%400==0 and y%100!=0):\n",
        "  print(\"leap year\")\n",
        "else:\n",
        "  print(\"not\")"
      ]
    },
    {
      "cell_type": "code",
      "execution_count": null,
      "metadata": {
        "colab": {
          "base_uri": "https://localhost:8080/"
        },
        "id": "JiZfTz5mRFRG",
        "outputId": "23a6fd6d-daca-4bc8-bfef-b2033e3746c4"
      },
      "outputs": [
        {
          "name": "stdout",
          "output_type": "stream",
          "text": [
            "enter a year..:2021\n",
            "not a leap year\n"
          ]
        }
      ],
      "source": [
        "y=int(input(\"enter a year..:\"))\n",
        "if(y%400==0):\n",
        "  print(\"leap year\")\n",
        "elif(y%100==0):\n",
        "  print(\"not a leap year\")\n",
        "elif(y%4==0):\n",
        "  print(\"leap year\")\n",
        "else:\n",
        "  print(\"not a leap year\")"
      ]
    },
    {
      "cell_type": "code",
      "execution_count": null,
      "metadata": {
        "colab": {
          "base_uri": "https://localhost:8080/"
        },
        "id": "2xd4ohM7RDJd",
        "outputId": "95e5d16c-4223-4bb0-f473-eff69972e87d"
      },
      "outputs": [
        {
          "name": "stdout",
          "output_type": "stream",
          "text": [
            "press any key..:v\n",
            "lower case\n"
          ]
        }
      ],
      "source": [
        "ch=input(\"press any key..:\")\n",
        "if (ord (ch)>=65 and ord (ch)<=90):\n",
        "  print(\"upper case\")\n",
        "elif(ord(ch)>=97 and ord(ch)<=122):\n",
        "  print(\"lower case\")\n",
        "elif(ord(ch)>=48 and ord(ch)<=57):\n",
        "  print(\"digit\")\n",
        "else:\n",
        "  print(\"others\")"
      ]
    },
    {
      "cell_type": "code",
      "execution_count": null,
      "metadata": {
        "colab": {
          "base_uri": "https://localhost:8080/"
        },
        "id": "faYFtAB1UjrM",
        "outputId": "4c6aeb8b-884a-44bd-becc-727288e50631"
      },
      "outputs": [
        {
          "name": "stdout",
          "output_type": "stream",
          "text": [
            "press any key on keyword..:A\n",
            "upper case\n"
          ]
        }
      ],
      "source": [
        "ch=input(\"press any key on keyword..:\")\n",
        "if (ch>=\"A\"and ch<=\"Z\"):\n",
        "  print(\"upper case\")\n",
        "elif(ch>=\"a\"and ch<=\"z\"):\n",
        "  print(\"lower case\")\n",
        "elif(ch>=\"0\" and ch<=\"9\"):\n",
        "  print(\"digit\")\n",
        "else:\n",
        "  print(\"other\")"
      ]
    },
    {
      "cell_type": "code",
      "execution_count": null,
      "metadata": {
        "colab": {
          "base_uri": "https://localhost:8080/"
        },
        "id": "TV_lFBcpF7xt",
        "outputId": "0fc6ff2d-51ed-439a-85b6-24b7fbc1e3d5"
      },
      "outputs": [
        {
          "name": "stdout",
          "output_type": "stream",
          "text": [
            "enter sno..:1\n",
            "enter sname..:varshi\n",
            "enter sclass..:10\n",
            "enter ssec..:a\n",
            "enter m1..:99\n",
            "enter m2..:98\n",
            "enter m3..:89\n",
            "enter m4..:99\n",
            "enter m5..:97\n",
            "enter m6..:99\n",
            ".............\n",
            "\t marks report\n",
            "sno= 1 \t sname= varshi\n",
            "sclass= 10 \t ssec= a\n",
            "......................\n",
            "m1= 99 \t m2= 98\n",
            "m3= 89 \t m4= 99\n",
            "m5= 97 \t m6= 99\n",
            "................\n",
            "result=pass\n",
            "grade=a\n"
          ]
        }
      ],
      "source": [
        "sno=input(\"enter sno..:\")\n",
        "sname=input(\"enter sname..:\")\n",
        "sclass=input(\"enter sclass..:\")\n",
        "ssec=input(\"enter ssec..:\")\n",
        "m1=int(input(\"enter m1..:\"))\n",
        "m2=int(input(\"enter m2..:\"))\n",
        "m3=int(input(\"enter m3..:\"))\n",
        "m4=int(input(\"enter m4..:\"))\n",
        "m5=int(input(\"enter m5..:\"))\n",
        "m6=int(input(\"enter m6..:\"))\n",
        "tot=m1+m2+m3+m4+m5+m6\n",
        "avg=tot/6\n",
        "print(\".............\")\n",
        "print(\"\\t marks report\")\n",
        "print(\"sno=\",sno,\"\\t\",\"sname=\",sname)\n",
        "print(\"sclass=\",sclass,\"\\t\",\"ssec=\",ssec)\n",
        "print(\"......................\")\n",
        "print(\"m1=\",m1,\"\\t\",\"m2=\",m2)\n",
        "print(\"m3=\",m3,\"\\t\",\"m4=\",m4)\n",
        "print(\"m5=\",m5,\"\\t\",\"m6=\",m6)\n",
        "print(\"................\")\n",
        "if(m1<35 or m2<35 or m3<35 or m4<35 or m5<35 or m6<35 ):\n",
        "  print(\"result=fail\")\n",
        "  print(\"grade=no grade\")\n",
        "elif(\"arg>=65\"):\n",
        "  print(\"result=pass\")\n",
        "  print(\"grade=a\")\n",
        "elif(\"avg<65 and avg>=45\"):\n",
        "  print(\"result=pass\")\n",
        "  print(\"rade=b\")\n",
        "elif(avg<45):\n",
        "  print(\"result=pass\")\n",
        "  print(\"grade=c\")\n",
        "  print(\"..............\")"
      ]
    },
    {
      "cell_type": "code",
      "execution_count": null,
      "metadata": {
        "colab": {
          "base_uri": "https://localhost:8080/"
        },
        "id": "pMMRdstcLG-F",
        "outputId": "e422418d-9995-4de9-93a2-3ab2af14e5d9"
      },
      "outputs": [
        {
          "name": "stdout",
          "output_type": "stream",
          "text": [
            "move forward\n",
            "move forward\n",
            "move forward\n",
            "move forward\n",
            "move forward\n"
          ]
        }
      ],
      "source": [
        "#print statement 5times with loop\n",
        "print(\"move forward\")\n",
        "print(\"move forward\")\n",
        "print(\"move forward\")\n",
        "print(\"move forward\")\n",
        "print(\"move forward\")"
      ]
    },
    {
      "cell_type": "code",
      "execution_count": null,
      "metadata": {
        "colab": {
          "base_uri": "https://localhost:8080/"
        },
        "id": "hz4cH-EoLvMz",
        "outputId": "f496575c-06f9-4583-845a-54f4ee4cc05a"
      },
      "outputs": [
        {
          "name": "stdout",
          "output_type": "stream",
          "text": [
            "nipuna technologes\n",
            "nipuna technologes\n",
            "nipuna technologes\n",
            "nipuna technologes\n",
            "nipuna technologes\n"
          ]
        }
      ],
      "source": [
        "#print statement 5times exit while loop\n",
        "i=1\n",
        "while(i<=5):\n",
        "  print(\"nipuna technologes\")\n",
        "  i=i+1"
      ]
    },
    {
      "cell_type": "code",
      "execution_count": null,
      "metadata": {
        "colab": {
          "base_uri": "https://localhost:8080/"
        },
        "id": "AKheVNLIMR4k",
        "outputId": "a9004a63-ac0d-4570-be94-cdc14c15182d"
      },
      "outputs": [
        {
          "name": "stdout",
          "output_type": "stream",
          "text": [
            "1\n",
            "2\n",
            "3\n",
            "4\n",
            "5\n"
          ]
        }
      ],
      "source": [
        "#program to print 1to 5 numbers\n",
        "i=1\n",
        "while(i<=5):\n",
        "  print(i)\n",
        "  i=i+1"
      ]
    },
    {
      "cell_type": "code",
      "execution_count": null,
      "metadata": {
        "colab": {
          "base_uri": "https://localhost:8080/"
        },
        "id": "-sSdw-abMjBn",
        "outputId": "ca02a24c-114f-4128-ab8d-4cb43583476e"
      },
      "outputs": [
        {
          "name": "stdout",
          "output_type": "stream",
          "text": [
            "12345"
          ]
        }
      ],
      "source": [
        "#program to print 1to 5 numbers\n",
        "i=1\n",
        "while(i<=5):\n",
        "  print(i,end=\"\")\n",
        "  i=i+1"
      ]
    },
    {
      "cell_type": "code",
      "execution_count": null,
      "metadata": {
        "colab": {
          "base_uri": "https://localhost:8080/"
        },
        "id": "NSqIjlPZM1oC",
        "outputId": "122221f6-dff7-495e-e125-7196e1937432"
      },
      "outputs": [
        {
          "name": "stdout",
          "output_type": "stream",
          "text": [
            "54321"
          ]
        }
      ],
      "source": [
        "#program to print 5 to 1 numbers\n",
        "i=5\n",
        "while(i>=1):\n",
        "  print(i,end=\"\")\n",
        "  i=i-1"
      ]
    },
    {
      "cell_type": "code",
      "execution_count": null,
      "metadata": {
        "colab": {
          "base_uri": "https://localhost:8080/"
        },
        "id": "X8Ca7FjoNJpX",
        "outputId": "d9d65a09-ef93-4565-9faa-83a5f2f3c0f8"
      },
      "outputs": [
        {
          "name": "stdout",
          "output_type": "stream",
          "text": [
            "1\n",
            "count= 1\n",
            "2\n",
            "count= 2\n",
            "3\n",
            "count= 3\n",
            "4\n",
            "count= 4\n",
            "5\n",
            "count= 5\n"
          ]
        }
      ],
      "source": [
        "i=1;c=0\n",
        "while(i<=5):\n",
        "  print(i,end=\"\")\n",
        "  c=c+1\n",
        "  i=i+1\n",
        "  print()\n",
        "  print(\"count=\",c)"
      ]
    },
    {
      "cell_type": "code",
      "execution_count": null,
      "metadata": {
        "colab": {
          "base_uri": "https://localhost:8080/"
        },
        "id": "IeFFRqOpN2-F",
        "outputId": "4148bfa2-d8a2-4cbc-caba-bd97f394bedb"
      },
      "outputs": [
        {
          "name": "stdout",
          "output_type": "stream",
          "text": [
            "1\n",
            "cot= 1\n",
            "sum= 1\n",
            "average= 0.2\n",
            "2\n",
            "cot= 2\n",
            "sum= 3\n",
            "average= 0.6\n",
            "3\n",
            "cot= 3\n",
            "sum= 6\n",
            "average= 1.2\n",
            "4\n",
            "cot= 4\n",
            "sum= 10\n",
            "average= 2.0\n",
            "5\n",
            "cot= 5\n",
            "sum= 15\n",
            "average= 3.0\n"
          ]
        }
      ],
      "source": [
        "#program to mint 1to 5 numbers,count,sum and average\n",
        "i=1;c=0;s=0\n",
        "while(i<=5):\n",
        " print(i,end=\"\")\n",
        " c=c+1\n",
        " s=s+i\n",
        " i=i+1\n",
        " print()\n",
        " print(\"cot=\",c)\n",
        " print(\"sum=\",s)\n",
        " avg=s/5\n",
        " print(\"average=\",avg)"
      ]
    },
    {
      "cell_type": "code",
      "execution_count": null,
      "metadata": {
        "colab": {
          "base_uri": "https://localhost:8080/"
        },
        "id": "lZ6Qk_hCPU7w",
        "outputId": "928e8011-2cc0-4fb1-ed9c-c29fed069705"
      },
      "outputs": [
        {
          "name": "stdout",
          "output_type": "stream",
          "text": [
            "246810"
          ]
        }
      ],
      "source": [
        "#even numbers between 1 to 10\n",
        "i=1\n",
        "while(i<=10):\n",
        "  if(i%2==0):\n",
        "     print(i,end=\"\")\n",
        "  i=i+1"
      ]
    },
    {
      "cell_type": "code",
      "execution_count": null,
      "metadata": {
        "colab": {
          "base_uri": "https://localhost:8080/"
        },
        "id": "3Ok3nX7HS2hy",
        "outputId": "26a8e2ea-abb2-48e6-d034-e6cba6ccfdcf"
      },
      "outputs": [
        {
          "name": "stdout",
          "output_type": "stream",
          "text": [
            "13579"
          ]
        }
      ],
      "source": [
        "#odd numbers between 1 to 10\n",
        "i=1\n",
        "while(i<=10):\n",
        "   if(i%2!=0):\n",
        "     print(i,end=\"\")\n",
        "   i=i+1"
      ]
    },
    {
      "cell_type": "code",
      "execution_count": null,
      "metadata": {
        "colab": {
          "base_uri": "https://localhost:8080/"
        },
        "id": "VmthNkYYZ8Nk",
        "outputId": "56d956ff-73a5-484c-c510-f3739d13b21f"
      },
      "outputs": [
        {
          "name": "stdout",
          "output_type": "stream",
          "text": [
            "1\n",
            "nipuna technologies\n",
            "2\n",
            "vijayawada\n",
            "3\n",
            "nipuna technologies\n",
            "4\n",
            "vijayawada\n",
            "5\n",
            "nipuna technologies\n",
            "6\n",
            "vijayawada\n",
            "7\n",
            "nipuna technologies\n",
            "8\n",
            "vijayawada\n",
            "9\n",
            "nipuna technologies\n",
            "10\n",
            "vijayawada\n"
          ]
        }
      ],
      "source": [
        "i=1\n",
        "while(i <= 10):\n",
        "    print(i)\n",
        "    if (i%2!=0):\n",
        "        print(\"nipuna technologies\")\n",
        "    else:\n",
        "        print(\"vijayawada\")\n",
        "    i=i+1"
      ]
    },
    {
      "cell_type": "code",
      "execution_count": null,
      "metadata": {
        "colab": {
          "base_uri": "https://localhost:8080/"
        },
        "id": "DRc8m43HdlU-",
        "outputId": "acf2de43-4590-4e33-e851-e12e9a6b5820"
      },
      "outputs": [
        {
          "name": "stdout",
          "output_type": "stream",
          "text": [
            "fizz\n",
            "buzz\n",
            "fizz\n",
            "fizz\n",
            "buzz\n",
            "fizz\n",
            "fizzbuzz\n"
          ]
        }
      ],
      "source": [
        "#fizzbuzz logic\n",
        "i=1\n",
        "while(i<=16):\n",
        "    if(i%15==0):\n",
        "      print(\"fizzbuzz\")\n",
        "    elif(i%3==0):\n",
        "      print(\"fizz\")\n",
        "    elif(i%5==0):\n",
        "      print(\"buzz\")\n",
        "    i=i+1"
      ]
    },
    {
      "cell_type": "code",
      "execution_count": null,
      "metadata": {
        "colab": {
          "base_uri": "https://localhost:8080/"
        },
        "id": "Rrx-e3_2erY_",
        "outputId": "d1fa860f-27a3-4ed6-b061-7691b805b3ca"
      },
      "outputs": [
        {
          "name": "stdout",
          "output_type": "stream",
          "text": [
            "number \t squre t cube\n",
            ".................\n",
            "1 \t 1 \t 1\n",
            "2 \t 4 \t 8\n",
            "3 \t 9 \t 27\n",
            "4 \t 16 \t 64\n",
            "5 \t 25 \t 125\n",
            "6 \t 36 \t 216\n",
            "7 \t 49 \t 343\n",
            "8 \t 64 \t 512\n",
            "9 \t 81 \t 729\n",
            "10 \t 100 \t 1000\n"
          ]
        }
      ],
      "source": [
        "#program to print numer square cube\n",
        "i=1\n",
        "print(\"number \\t squre t cube\")\n",
        "print(\".................\")\n",
        "while(i<=10):\n",
        "  print(i,\"\\t\",i*i,\"\\t\",i*i*i)\n",
        "  i=i+1"
      ]
    },
    {
      "cell_type": "code",
      "execution_count": null,
      "metadata": {
        "colab": {
          "base_uri": "https://localhost:8080/"
        },
        "id": "Wphsf4BNhz8b",
        "outputId": "6f199b0d-e4e6-40f4-e024-b60e715b55ff"
      },
      "outputs": [
        {
          "name": "stdout",
          "output_type": "stream",
          "text": [
            "enter a number..:5\n",
            "1\n",
            "2\n",
            "3\n",
            "4\n",
            "5\n"
          ]
        }
      ],
      "source": [
        "#program to print 1to n numbers\n",
        "n=int(input(\"enter a number..:\"))\n",
        "i=1\n",
        "while (i<=n):\n",
        "   print(i)\n",
        "   i=i+1"
      ]
    },
    {
      "cell_type": "code",
      "execution_count": null,
      "metadata": {
        "colab": {
          "base_uri": "https://localhost:8080/"
        },
        "id": "rfqHpXEHiWrE",
        "outputId": "1633e49f-250a-4f2e-a230-4a7e736c3371"
      },
      "outputs": [
        {
          "name": "stdout",
          "output_type": "stream",
          "text": [
            "enter a number..:100\n",
            "count= 3\n"
          ]
        }
      ],
      "source": [
        "#count to number of digids in a given number\n",
        "i=1;c=0\n",
        "n=int(input(\"enter a number..:\"))\n",
        "while(i<=n):\n",
        "  n=n//10\n",
        "  c=c+1\n",
        "print(\"count=\",c)"
      ]
    },
    {
      "cell_type": "code",
      "execution_count": null,
      "metadata": {
        "colab": {
          "base_uri": "https://localhost:8080/"
        },
        "id": "5v1jGZ6ii8Kl",
        "outputId": "520ec16c-bf1a-4337-ba08-66a56e6f12e2"
      },
      "outputs": [
        {
          "name": "stdout",
          "output_type": "stream",
          "text": [
            "enter a number..:876\n",
            "sum of digits= 21\n"
          ]
        }
      ],
      "source": [
        "#sum of digits\n",
        "i=1\n",
        "s=0\n",
        "n=int(input(\"enter a number..:\"))\n",
        "while(i<=n):\n",
        "  r=n%10\n",
        "  s=s+r\n",
        "  n=n//10\n",
        "print(\"sum of digits=\",s)"
      ]
    },
    {
      "cell_type": "code",
      "execution_count": null,
      "metadata": {
        "colab": {
          "base_uri": "https://localhost:8080/"
        },
        "id": "Q4qmyTSy96uT",
        "outputId": "a7a02378-bb9c-41f3-c970-9a9b7b26485d"
      },
      "outputs": [
        {
          "name": "stdout",
          "output_type": "stream",
          "text": [
            "enter a number..:8\n",
            "01123581321"
          ]
        }
      ],
      "source": [
        "#program to print fibonaci series upto n numbers\n",
        "i=0;a=0;b=1\n",
        "n=int(input(\"enter a number..:\"))\n",
        "while(i<=n):\n",
        "   print(a,end=\"\")\n",
        "   c=a+b\n",
        "   a=b\n",
        "   b=c\n",
        "   i=i+1"
      ]
    },
    {
      "cell_type": "code",
      "execution_count": null,
      "metadata": {
        "colab": {
          "base_uri": "https://localhost:8080/"
        },
        "id": "bS5KP7cU-v4K",
        "outputId": "ae576209-8528-4647-cf38-e62ba196a985"
      },
      "outputs": [
        {
          "name": "stdout",
          "output_type": "stream",
          "text": [
            "enter a number..:15\n",
            "factorial= 1\n",
            "factorial= 2\n",
            "factorial= 6\n",
            "factorial= 24\n",
            "factorial= 120\n",
            "factorial= 720\n",
            "factorial= 5040\n",
            "factorial= 40320\n",
            "factorial= 362880\n",
            "factorial= 3628800\n",
            "factorial= 39916800\n",
            "factorial= 479001600\n",
            "factorial= 6227020800\n",
            "factorial= 87178291200\n",
            "factorial= 1307674368000\n"
          ]
        }
      ],
      "source": [
        "#program to print factorial of a given number\n",
        "i=1;f=1\n",
        "n=int(input(\"enter a number..:\"))\n",
        "while(i<=n):\n",
        "  f=f*i\n",
        "  i=i+1\n",
        "  print(\"factorial=\",f)"
      ]
    },
    {
      "cell_type": "code",
      "execution_count": null,
      "metadata": {
        "colab": {
          "base_uri": "https://localhost:8080/"
        },
        "id": "1t-Foxyi_Zxz",
        "outputId": "f2436971-a652-4db6-a9e4-3cd657d8c4f9"
      },
      "outputs": [
        {
          "name": "stdout",
          "output_type": "stream",
          "text": [
            "enter a number..:10\n",
            "number \t factorial\n",
            ".............\n",
            "1 \t 1\n",
            "2 \t 2\n",
            "3 \t 6\n",
            "4 \t 24\n",
            "5 \t 120\n",
            "6 \t 720\n",
            "7 \t 5040\n",
            "8 \t 40320\n",
            "9 \t 362880\n",
            "10 \t 3628800\n"
          ]
        }
      ],
      "source": [
        "#program to print factorials upto a given number\n",
        "i=1;f=1\n",
        "n=int(input(\"enter a number..:\"))\n",
        "print(\"number \\t factorial\")\n",
        "print(\".............\")\n",
        "while(i<=n):\n",
        "  f=f*i\n",
        "  print(i,\"\\t\",f)\n",
        "  i=i+1"
      ]
    },
    {
      "cell_type": "code",
      "execution_count": null,
      "metadata": {
        "colab": {
          "base_uri": "https://localhost:8080/"
        },
        "id": "6gQt0QkxAgIh",
        "outputId": "bf8f4ce2-d54e-461d-c129-059a76532c82"
      },
      "outputs": [
        {
          "name": "stdout",
          "output_type": "stream",
          "text": [
            "enter a number..:15\n",
            "count of digits= 2\n"
          ]
        }
      ],
      "source": [
        "#count number of digits in a given number\n",
        "i=1;c=0\n",
        "n=int(input(\"enter a number..:\"))\n",
        "while(i<=n):\n",
        "  n=n/10\n",
        "  c=c+1\n",
        "print(\"count of digits=\",c)"
      ]
    },
    {
      "cell_type": "code",
      "execution_count": null,
      "metadata": {
        "colab": {
          "base_uri": "https://localhost:8080/"
        },
        "id": "rd0oec9zBH0c",
        "outputId": "6a6a2bb1-41e6-4625-93d5-e774b6d90107"
      },
      "outputs": [
        {
          "name": "stdout",
          "output_type": "stream",
          "text": [
            "enter a number..:15\n",
            "not\n",
            "not\n"
          ]
        }
      ],
      "source": [
        "#number is armstrong or not\n",
        "i=1;s=0\n",
        "n=int(input(\"enter a number..:\"))\n",
        "t=n\n",
        "while(i<=n):\n",
        "  r=n%10\n",
        "  s=s+r*r*r\n",
        "  n=n//10\n",
        "  if(t==s):\n",
        "    print(\"armstrong\")\n",
        "  else:\n",
        "    print(\"not\")"
      ]
    },
    {
      "cell_type": "code",
      "execution_count": null,
      "metadata": {
        "colab": {
          "base_uri": "https://localhost:8080/"
        },
        "id": "57mca6mdCCBp",
        "outputId": "510a3e3f-f49b-47a0-8529-274b71f0a9ad"
      },
      "outputs": [
        {
          "name": "stdout",
          "output_type": "stream",
          "text": [
            "enter a number..:156\n",
            "reverse= 651\n"
          ]
        }
      ],
      "source": [
        "i=1;s=0\n",
        "n=int(input(\"enter a number..:\"))\n",
        "while(i<=n):\n",
        "  r=n%10\n",
        "  s=s*10+r\n",
        "  n=n//10\n",
        "print(\"reverse=\",s)"
      ]
    },
    {
      "cell_type": "code",
      "execution_count": null,
      "metadata": {
        "colab": {
          "base_uri": "https://localhost:8080/"
        },
        "id": "pdNW6A6SCzWR",
        "outputId": "9d64cb3a-8a55-4950-c8fe-7ad0c9326e41"
      },
      "outputs": [
        {
          "name": "stdout",
          "output_type": "stream",
          "text": [
            "enter a number..:5\n",
            "palindrome\n"
          ]
        }
      ],
      "source": [
        "i=1;s=0\n",
        "n=int(input(\"enter a number..:\"))\n",
        "t=n\n",
        "while(i<=n):\n",
        "  r=n%10\n",
        "  s=s*10+r\n",
        "  n=n//10\n",
        "if(t==s):\n",
        "  print(\"palindrome\")\n",
        "else:\n",
        "  print(\"not\")"
      ]
    },
    {
      "cell_type": "code",
      "execution_count": null,
      "metadata": {
        "colab": {
          "base_uri": "https://localhost:8080/"
        },
        "id": "ciAIKC2zD2Wz",
        "outputId": "c320bc18-f942-4167-aea3-290694a0b40c"
      },
      "outputs": [
        {
          "name": "stdout",
          "output_type": "stream",
          "text": [
            "1\n",
            "2\n",
            "3\n",
            "4\n",
            "5\n",
            "6\n",
            "7\n",
            "8\n",
            "9\n",
            "10\n"
          ]
        }
      ],
      "source": [
        "#program to print 1 to 10 numbers using for loop\n",
        "for i in range(1,11):\n",
        "  print(i)"
      ]
    },
    {
      "cell_type": "code",
      "execution_count": null,
      "metadata": {
        "colab": {
          "base_uri": "https://localhost:8080/"
        },
        "id": "mmlMqMx6EDr2",
        "outputId": "3e7b2e61-319e-457d-eb76-82a9bae6f9e7"
      },
      "outputs": [
        {
          "name": "stdout",
          "output_type": "stream",
          "text": [
            "12345678910"
          ]
        }
      ],
      "source": [
        "#program to print 1 to 10 number using for loop\n",
        "for i in range(1,11):\n",
        "  print(i,end=\"\")"
      ]
    },
    {
      "cell_type": "code",
      "execution_count": null,
      "metadata": {
        "colab": {
          "base_uri": "https://localhost:8080/"
        },
        "id": "-rL3Fk3cETfs",
        "outputId": "75b9bdeb-191f-4c64-d590-5280d1618870"
      },
      "outputs": [
        {
          "name": "stdout",
          "output_type": "stream",
          "text": [
            "13579"
          ]
        }
      ],
      "source": [
        "#program to print 1 to 10 numbers with step 1 using for loop\n",
        "for i in range(1,11,2):\n",
        "  print(i,end=\"\")"
      ]
    },
    {
      "cell_type": "code",
      "execution_count": null,
      "metadata": {
        "colab": {
          "base_uri": "https://localhost:8080/"
        },
        "id": "Zd0qaqQwEoUc",
        "outputId": "9ed69b30-957d-4ba1-b1f6-87bf8b92cd84"
      },
      "outputs": [
        {
          "name": "stdout",
          "output_type": "stream",
          "text": [
            "10987654321"
          ]
        }
      ],
      "source": [
        "#program to print 10 to 1 number using for loop\n",
        "for i in range(10,0,-1):\n",
        "  print(i,end=\"\")"
      ]
    },
    {
      "cell_type": "code",
      "execution_count": null,
      "metadata": {
        "colab": {
          "base_uri": "https://localhost:8080/"
        },
        "id": "na5JnkVwE5wo",
        "outputId": "1b2fc07a-b3b1-4260-a2f0-0b3510a42455"
      },
      "outputs": [
        {
          "name": "stdout",
          "output_type": "stream",
          "text": [
            "12345678910\n",
            "count= 10\n",
            "sum= 55\n",
            "average= 5.5\n"
          ]
        }
      ],
      "source": [
        "#program to print 10 to 1 numbers,their count,sum and average using for loop\n",
        "c=0;s=0\n",
        "for i in range(1,11):\n",
        "  c=c+1\n",
        "  s=s+i\n",
        "  print(i,end=\"\")\n",
        "print()\n",
        "print(\"count=\",c)\n",
        "print(\"sum=\",s)\n",
        "av=s/10\n",
        "print(\"average=\",av)"
      ]
    },
    {
      "cell_type": "code",
      "execution_count": null,
      "metadata": {
        "colab": {
          "base_uri": "https://localhost:8080/"
        },
        "id": "StMqosRaFq30",
        "outputId": "c80640cf-9494-4c6f-9b2b-21688ccac5c0"
      },
      "outputs": [
        {
          "name": "stdout",
          "output_type": "stream",
          "text": [
            "246810"
          ]
        }
      ],
      "source": [
        "#program to print even number from 1to 10\n",
        "for i in range(1,11):\n",
        "  if(i%2==0):\n",
        "    print(i,end=\"\")"
      ]
    },
    {
      "cell_type": "code",
      "execution_count": null,
      "metadata": {
        "colab": {
          "base_uri": "https://localhost:8080/"
        },
        "id": "5w_kZniAF-Fc",
        "outputId": "9296027c-6430-4f69-b882-ef1a95540669"
      },
      "outputs": [
        {
          "name": "stdout",
          "output_type": "stream",
          "text": [
            "13579"
          ]
        }
      ],
      "source": [
        "#program to print odd number from 1 to 10\n",
        "for i in range(1,11):\n",
        "  if(i%2!=0):\n",
        "    print(i,end=\"\")"
      ]
    },
    {
      "cell_type": "code",
      "execution_count": null,
      "metadata": {
        "colab": {
          "base_uri": "https://localhost:8080/"
        },
        "id": "v9btV5BSGXVe",
        "outputId": "b6d67cf0-9126-4db3-d952-8d00a9662449"
      },
      "outputs": [
        {
          "name": "stdout",
          "output_type": "stream",
          "text": [
            "1\n",
            "2\n",
            "3\n",
            "4\n",
            "5\n",
            "nipuna\n"
          ]
        }
      ],
      "source": [
        "for i in range(1,6):\n",
        "  print(i)\n",
        "if(i%2!=0):\n",
        "    print(\"nipuna\")\n",
        "else:\n",
        "  print(\"vijayawada\")"
      ]
    },
    {
      "cell_type": "code",
      "execution_count": null,
      "metadata": {
        "colab": {
          "base_uri": "https://localhost:8080/"
        },
        "id": "KWGJQVhbG6Ds",
        "outputId": "1f7dba2a-69e8-43f5-a8fd-b93244e12e4e"
      },
      "outputs": [
        {
          "name": "stdout",
          "output_type": "stream",
          "text": [
            "1\n",
            "2\n",
            "fizzbuzz\n",
            "4\n",
            "buzz\n",
            "fizzbuzz\n",
            "7\n",
            "8\n",
            "fizzbuzz\n",
            "buzz\n",
            "11\n",
            "fizzbuzz\n",
            "13\n",
            "14\n",
            "fizzbuzz\n",
            "16\n"
          ]
        }
      ],
      "source": [
        "#fizzbuzz logic\n",
        "for i in range(1,17):\n",
        "  if(i%15==0):\n",
        "    print(\"fizzbuzz\")\n",
        "  elif(i%3==0):\n",
        "    print(\"fizzbuzz\")\n",
        "  elif(i%5==0):\n",
        "    print(\"buzz\")\n",
        "  else:\n",
        "    print(i)"
      ]
    },
    {
      "cell_type": "code",
      "execution_count": null,
      "metadata": {
        "colab": {
          "base_uri": "https://localhost:8080/"
        },
        "id": "0r7S-OhCHxJk",
        "outputId": "baf4727b-3976-41e1-a139-33d3a0b6ccef"
      },
      "outputs": [
        {
          "name": "stdout",
          "output_type": "stream",
          "text": [
            "\n",
            " number \t squre \t cube\n",
            "............\n",
            "1 \t 1 \t 1\n",
            "2 \t 4 \t 8\n",
            "3 \t 9 \t 27\n",
            "4 \t 16 \t 64\n",
            "5 \t 25 \t 125\n",
            "6 \t 36 \t 216\n",
            "7 \t 49 \t 343\n",
            "8 \t 64 \t 512\n",
            "9 \t 81 \t 729\n",
            "10 \t 100 \t 1000\n"
          ]
        }
      ],
      "source": [
        "#program to print number ,squar and cube between 1 to  10\n",
        "print(\"\\n number \\t squre \\t cube\")\n",
        "print(\"............\")\n",
        "for i in range (1,11):\n",
        "  print(i,\"\\t\",i*i,\"\\t\",i*i*i)"
      ]
    },
    {
      "cell_type": "code",
      "execution_count": null,
      "metadata": {
        "colab": {
          "base_uri": "https://localhost:8080/"
        },
        "id": "3A1CPQTcQubn",
        "outputId": "6919f513-cb6d-44cf-d4da-f8d453b965bf"
      },
      "outputs": [
        {
          "name": "stdout",
          "output_type": "stream",
          "text": [
            "0112358132134"
          ]
        }
      ],
      "source": [
        "#program to print fibonacci from series from 1 to 10\n",
        "a=0;b=1\n",
        "for i in range(1,11):\n",
        "   print(a,end=\"\")\n",
        "   c=a+b\n",
        "   a=b\n",
        "   b=c"
      ]
    },
    {
      "cell_type": "code",
      "execution_count": null,
      "metadata": {
        "colab": {
          "base_uri": "https://localhost:8080/"
        },
        "id": "hFbbkL58RJGF",
        "outputId": "54770f74-577d-4eaf-fc2b-18d430098443"
      },
      "outputs": [
        {
          "name": "stdout",
          "output_type": "stream",
          "text": [
            "enter a number..:10\n",
            "1\n",
            "2\n",
            "3\n",
            "4\n",
            "5\n",
            "6\n",
            "7\n",
            "8\n",
            "9\n",
            "10\n"
          ]
        }
      ],
      "source": [
        "#program to print fibonaci series from 1 to n\n",
        "n=int(input(\"enter a number..:\"))\n",
        "for i in range(1,n+1):\n",
        "  print(i)"
      ]
    },
    {
      "cell_type": "code",
      "execution_count": null,
      "metadata": {
        "colab": {
          "base_uri": "https://localhost:8080/"
        },
        "id": "1MNJ7a9FSCwr",
        "outputId": "c7e2b059-8582-4457-b96d-8863ee6abcbe"
      },
      "outputs": [
        {
          "name": "stdout",
          "output_type": "stream",
          "text": [
            "*****\n",
            "*****\n",
            "*****\n",
            "*****\n",
            "*****\n"
          ]
        }
      ],
      "source": [
        "#nested while loop\n",
        "i=1\n",
        "while(i<=5):\n",
        "  j=1\n",
        "  while(j<=5):\n",
        "    print(\"*\",end=\"\")\n",
        "    j=j+1\n",
        "  print()\n",
        "  i=i+1"
      ]
    },
    {
      "cell_type": "code",
      "execution_count": null,
      "metadata": {
        "colab": {
          "base_uri": "https://localhost:8080/"
        },
        "id": "eIm28-HQSh42",
        "outputId": "633312e6-e8d0-4879-d632-874d6d102d55"
      },
      "outputs": [
        {
          "name": "stdout",
          "output_type": "stream",
          "text": [
            "*****\n",
            "*****\n",
            "*****\n",
            "*****\n",
            "*****\n"
          ]
        }
      ],
      "source": [
        "#nested for loop\n",
        "for i in range(5):\n",
        "  for j in range(5):\n",
        "    print(\"*\",end=\"\")\n",
        "  print()"
      ]
    },
    {
      "cell_type": "code",
      "execution_count": null,
      "metadata": {
        "colab": {
          "base_uri": "https://localhost:8080/"
        },
        "id": "ijKLbADAS-2d",
        "outputId": "95b15e5d-5d0d-400b-c9b0-5bca69da833a"
      },
      "outputs": [
        {
          "name": "stdout",
          "output_type": "stream",
          "text": [
            "1\n",
            "2\n",
            "3\n",
            "4\n",
            "5\n"
          ]
        }
      ],
      "source": [
        "#break statement\n",
        "for i in range(1,11):\n",
        "  if(i>5):\n",
        "    break\n",
        "  print(i)"
      ]
    },
    {
      "cell_type": "code",
      "execution_count": null,
      "metadata": {
        "colab": {
          "base_uri": "https://localhost:8080/"
        },
        "id": "pe9so1T-TRWR",
        "outputId": "16f6963b-2deb-45bb-cd26-edc11ae38c55"
      },
      "outputs": [
        {
          "name": "stdout",
          "output_type": "stream",
          "text": [
            "1\n",
            "3\n",
            "5\n",
            "7\n",
            "9\n"
          ]
        }
      ],
      "source": [
        "#continue statement\n",
        "for i in range(1,11):\n",
        "  if(i%2==0):\n",
        "    continue\n",
        "  print(i)"
      ]
    },
    {
      "cell_type": "code",
      "execution_count": null,
      "metadata": {
        "id": "ceRG8LViTmAe"
      },
      "outputs": [],
      "source": [
        "#pass statement\n",
        "def greet():\n",
        "  pass"
      ]
    },
    {
      "cell_type": "code",
      "execution_count": null,
      "metadata": {
        "colab": {
          "base_uri": "https://localhost:8080/"
        },
        "id": "T7NViuiuTwFM",
        "outputId": "a953cb19-1791-4740-97eb-5605dbfaa4e0"
      },
      "outputs": [
        {
          "name": "stdout",
          "output_type": "stream",
          "text": [
            "(10+5j)\n",
            "<class 'complex'>\n",
            "10.0\n",
            "5.0\n"
          ]
        }
      ],
      "source": [
        "#complex data type\n",
        "x=10+5j\n",
        "print(x)\n",
        "print(type(x))\n",
        "print(x.real)\n",
        "print(x.imag)"
      ]
    },
    {
      "cell_type": "code",
      "execution_count": null,
      "metadata": {
        "colab": {
          "base_uri": "https://localhost:8080/"
        },
        "id": "vjRsmfDV3c_u",
        "outputId": "a186d158-be39-4840-f9a9-277120c9ee2d"
      },
      "outputs": [
        {
          "name": "stdout",
          "output_type": "stream",
          "text": [
            "4\n"
          ]
        }
      ],
      "source": [
        "#random\n",
        "import random\n",
        "print(random.randint(1,10))"
      ]
    },
    {
      "cell_type": "code",
      "execution_count": null,
      "metadata": {
        "colab": {
          "base_uri": "https://localhost:8080/"
        },
        "id": "YHltQ_liXFwz",
        "outputId": "2b0cca83-08d2-4867-b843-c563c3e03c58"
      },
      "outputs": [
        {
          "name": "stdout",
          "output_type": "stream",
          "text": [
            "5645657567.23\n"
          ]
        }
      ],
      "source": [
        "#random\n",
        "x=round(5645657567.234345,2)\n",
        "print(x)"
      ]
    },
    {
      "cell_type": "code",
      "execution_count": null,
      "metadata": {
        "colab": {
          "base_uri": "https://localhost:8080/"
        },
        "id": "wWrWSwfAXcmL",
        "outputId": "edc65bb8-0854-4560-bb2b-c6feb345bcf0"
      },
      "outputs": [
        {
          "name": "stdout",
          "output_type": "stream",
          "text": [
            "545\n"
          ]
        }
      ],
      "source": [
        "x=(-545)\n",
        "print(abs(x))"
      ]
    },
    {
      "cell_type": "code",
      "execution_count": null,
      "metadata": {
        "colab": {
          "base_uri": "https://localhost:8080/"
        },
        "id": "2U1kbkZ0Xqb8",
        "outputId": "8c1093d8-f533-4bc9-990a-76d9f8fc5eb1"
      },
      "outputs": [
        {
          "data": {
            "text/plain": [
              "['__doc__',\n",
              " '__loader__',\n",
              " '__name__',\n",
              " '__package__',\n",
              " '__spec__',\n",
              " 'acos',\n",
              " 'acosh',\n",
              " 'asin',\n",
              " 'asinh',\n",
              " 'atan',\n",
              " 'atan2',\n",
              " 'atanh',\n",
              " 'ceil',\n",
              " 'comb',\n",
              " 'copysign',\n",
              " 'cos',\n",
              " 'cosh',\n",
              " 'degrees',\n",
              " 'dist',\n",
              " 'e',\n",
              " 'erf',\n",
              " 'erfc',\n",
              " 'exp',\n",
              " 'expm1',\n",
              " 'fabs',\n",
              " 'factorial',\n",
              " 'floor',\n",
              " 'fmod',\n",
              " 'frexp',\n",
              " 'fsum',\n",
              " 'gamma',\n",
              " 'gcd',\n",
              " 'hypot',\n",
              " 'inf',\n",
              " 'isclose',\n",
              " 'isfinite',\n",
              " 'isinf',\n",
              " 'isnan',\n",
              " 'isqrt',\n",
              " 'lcm',\n",
              " 'ldexp',\n",
              " 'lgamma',\n",
              " 'log',\n",
              " 'log10',\n",
              " 'log1p',\n",
              " 'log2',\n",
              " 'modf',\n",
              " 'nan',\n",
              " 'nextafter',\n",
              " 'perm',\n",
              " 'pi',\n",
              " 'pow',\n",
              " 'prod',\n",
              " 'radians',\n",
              " 'remainder',\n",
              " 'sin',\n",
              " 'sinh',\n",
              " 'sqrt',\n",
              " 'tan',\n",
              " 'tanh',\n",
              " 'tau',\n",
              " 'trunc',\n",
              " 'ulp']"
            ]
          },
          "execution_count": 16,
          "metadata": {},
          "output_type": "execute_result"
        }
      ],
      "source": [
        "#math module\n",
        "import math\n",
        "dir(math)"
      ]
    },
    {
      "cell_type": "code",
      "execution_count": null,
      "metadata": {
        "colab": {
          "base_uri": "https://localhost:8080/"
        },
        "id": "20NyodYyX1us",
        "outputId": "83fe6816-c27d-49dc-fb97-e35b68004b56"
      },
      "outputs": [
        {
          "name": "stdout",
          "output_type": "stream",
          "text": [
            "Help on built-in function log1p in module math:\n",
            "\n",
            "log1p(x, /)\n",
            "    Return the natural logarithm of 1+x (base e).\n",
            "    \n",
            "    The result is computed in a way which is accurate for x near zero.\n",
            "\n"
          ]
        }
      ],
      "source": [
        "#getting help for the function\n",
        "import math\n",
        "help(math.log1p)"
      ]
    },
    {
      "cell_type": "code",
      "execution_count": null,
      "metadata": {
        "colab": {
          "base_uri": "https://localhost:8080/"
        },
        "id": "yZhcfEPEYB4H",
        "outputId": "f1fc828d-2dbe-4975-bd1a-57252fe69dd0"
      },
      "outputs": [
        {
          "name": "stdout",
          "output_type": "stream",
          "text": [
            "-1.117214930923896\n",
            "-0.3048106211022167\n",
            "-0.6669380616522619\n",
            "2343\n",
            "2344\n",
            "0.0\n",
            "0.0\n",
            "0.6931471805599453\n",
            "0.0\n",
            "120\n",
            "2.0\n",
            "7.38905609893065\n",
            "0.5235987755982988\n",
            "1718.8733853924696\n",
            "2.0\n",
            "16.0\n",
            "3.141592653589793\n",
            "2.718281828459045\n",
            "16.0\n",
            "(0.5, 10.0)\n",
            "60\n",
            "1\n",
            "100.4\n"
          ]
        }
      ],
      "source": [
        "#math functions\n",
        "import math\n",
        "print(math.tan(40))\n",
        "print(math.sin(60))\n",
        "print(math.cos(40))\n",
        "print(math.floor(2343.4554))\n",
        "print(math.ceil(2343.4554))\n",
        "print(math.log(1))\n",
        "print(math.log10(1))\n",
        "print(math.log1p(1))\n",
        "print(math.log2(1))\n",
        "print(math.factorial(5))\n",
        "print(math.sqrt(4))\n",
        "print(math.exp(2))\n",
        "print(math.radians(30))\n",
        "print(math.degrees(30))\n",
        "print(math.remainder(2,4))\n",
        "print(math.pow(2,4))\n",
        "print(math.pi)\n",
        "print(math.e)\n",
        "print(math.pow(2,4))\n",
        "print(math.modf(10.5))\n",
        "print(math.lcm(1,2,3,4,5))\n",
        "print(math.gcd(1,2,3,4,5))\n",
        "print(math.fabs(-100.4))\n"
      ]
    },
    {
      "cell_type": "code",
      "execution_count": null,
      "metadata": {
        "colab": {
          "base_uri": "https://localhost:8080/"
        },
        "id": "ElLrGLjKa3nE",
        "outputId": "b4e28f17-ade8-47d1-e9a1-fe1e27e6d6bb"
      },
      "outputs": [
        {
          "name": "stdout",
          "output_type": "stream",
          "text": [
            "enter a number..:5\n",
            "factorial= 120\n"
          ]
        }
      ],
      "source": [
        "import math\n",
        "x=int(input(\"enter a number..:\"))\n",
        "print(\"factorial=\",math.factorial(x))"
      ]
    },
    {
      "cell_type": "code",
      "execution_count": null,
      "metadata": {
        "colab": {
          "base_uri": "https://localhost:8080/"
        },
        "id": "a_IKmC-lblwV",
        "outputId": "689af622-1ec5-4b0e-b9a7-a7adfffaa955"
      },
      "outputs": [
        {
          "name": "stdout",
          "output_type": "stream",
          "text": [
            "state bank of india\n",
            "<class 'str'>\n"
          ]
        }
      ],
      "source": [
        "#strings\n",
        "x=\"state bank of india\"\n",
        "print(x)\n",
        "print(type(x))"
      ]
    },
    {
      "cell_type": "code",
      "execution_count": null,
      "metadata": {
        "colab": {
          "base_uri": "https://localhost:8080/"
        },
        "id": "2YfSKme0mOx8",
        "outputId": "e5ac612a-3cfd-4d25-e749-41dd59bfed43"
      },
      "outputs": [
        {
          "name": "stdout",
          "output_type": "stream",
          "text": [
            "state bank of india\n",
            "b\n"
          ]
        }
      ],
      "source": [
        "#program to fetch alphabet from a specified index\n",
        "x=\"state bank of india\"\n",
        "print(x)\n",
        "print(x[6])"
      ]
    },
    {
      "cell_type": "code",
      "execution_count": null,
      "metadata": {
        "colab": {
          "base_uri": "https://localhost:8080/"
        },
        "id": "z_yAmyIlmjmx",
        "outputId": "aa5a7003-f4f3-4042-c4a3-6607814d1575"
      },
      "outputs": [
        {
          "name": "stdout",
          "output_type": "stream",
          "text": [
            "a\n",
            "<class 'str'>\n"
          ]
        }
      ],
      "source": [
        "x=\"a\"\n",
        "print(x)\n",
        "print(type(x))"
      ]
    },
    {
      "cell_type": "code",
      "execution_count": null,
      "metadata": {
        "colab": {
          "base_uri": "https://localhost:8080/"
        },
        "id": "8lSFvTIYmwLW",
        "outputId": "99714d6f-615a-40df-d651-68e92da4149f"
      },
      "outputs": [
        {
          "name": "stdout",
          "output_type": "stream",
          "text": [
            "string1= state bank of india\n",
            "string2= ongole\n",
            "concatination= state bank of indiaongole\n"
          ]
        }
      ],
      "source": [
        "#string concatination\n",
        "x=\"state bank of india\"\n",
        "y=\"ongole\"\n",
        "print(\"string1=\",x)\n",
        "print(\"string2=\",y)\n",
        "print(\"concatination=\",x+y)"
      ]
    },
    {
      "cell_type": "code",
      "execution_count": null,
      "metadata": {
        "colab": {
          "base_uri": "https://localhost:8080/"
        },
        "id": "OPG2dOxBnVLU",
        "outputId": "34a98fbc-2df8-4a85-ec09-4b923241200c"
      },
      "outputs": [
        {
          "name": "stdout",
          "output_type": "stream",
          "text": [
            "replication= state bank of indiastate bank of indiastate bank of india\n",
            "replication= state bank of indiastate bank of indiastate bank of india\n"
          ]
        }
      ],
      "source": [
        "#string replcation\n",
        "x=\"state bank of india\"\n",
        "print(\"replication=\",x*3)\n",
        "print(\"replication=\",3*x)"
      ]
    },
    {
      "cell_type": "code",
      "execution_count": null,
      "metadata": {
        "colab": {
          "base_uri": "https://localhost:8080/"
        },
        "id": "p2eJKK_QnzH_",
        "outputId": "4b89f1f3-b372-4c77-9f5b-cfc20c76598c"
      },
      "outputs": [
        {
          "name": "stdout",
          "output_type": "stream",
          "text": [
            "value of x= state bank of india\n",
            "i\n"
          ]
        }
      ],
      "source": [
        "#negative index\n",
        "x=\"state bank of india\"\n",
        "print(\"value of x=\",x)\n",
        "print(x[-2])"
      ]
    },
    {
      "cell_type": "code",
      "execution_count": null,
      "metadata": {
        "colab": {
          "base_uri": "https://localhost:8080/"
        },
        "id": "HnKMziaHoL5O",
        "outputId": "3615c776-f6a6-426e-d715-cf5d32162f05"
      },
      "outputs": [
        {
          "name": "stdout",
          "output_type": "stream",
          "text": [
            "state bank of india\n",
            "value of x= state bank of india\n",
            "sta\n",
            "value of x= state \n",
            "value of x= state bank \n",
            "value of x= saebn \n",
            "value of x= state bank of indi\n",
            "value of x= state bank of ind\n"
          ]
        }
      ],
      "source": [
        "#stringslicing\n",
        "x=\"state bank of india\"\n",
        "print(x)\n",
        "print(\"value of x=\",x[:])\n",
        "print(x[:3])\n",
        "print(\"value of x=\",x[0:6])\n",
        "print(\"value of x=\",x[0:11])\n",
        "print(\"value of x=\",x[0:11:2])\n",
        "print(\"value of x=\",x[0:-1])\n",
        "print(\"value of x=\",x[0:-2])"
      ]
    },
    {
      "cell_type": "code",
      "execution_count": null,
      "metadata": {
        "colab": {
          "base_uri": "https://localhost:8080/"
        },
        "id": "Vki6CdlFrY3z",
        "outputId": "b3cd80e9-5bfc-45b4-cc6e-20ed346dfd1f"
      },
      "outputs": [
        {
          "name": "stdout",
          "output_type": "stream",
          "text": [
            "india\n"
          ]
        }
      ],
      "source": [
        "x=\"state bank of india\"\n",
        "result =x[-5:]\n",
        "print(result)"
      ]
    },
    {
      "cell_type": "code",
      "execution_count": null,
      "metadata": {
        "colab": {
          "base_uri": "https://localhost:8080/"
        },
        "id": "Z8qgAzruTAtX",
        "outputId": "a0979aa4-7315-4e9c-ce16-51e5997d2a13"
      },
      "outputs": [
        {
          "name": "stdout",
          "output_type": "stream",
          "text": [
            "amma\n"
          ]
        }
      ],
      "source": [
        "#reverse a string\n",
        "x=\"amma\"\n",
        "print(x[::-1])"
      ]
    },
    {
      "cell_type": "code",
      "execution_count": null,
      "metadata": {
        "colab": {
          "base_uri": "https://localhost:8080/"
        },
        "id": "ASR5IeaKTWez",
        "outputId": "05f4d7ab-ed28-4eb4-e0bc-ab2e107033a5"
      },
      "outputs": [
        {
          "name": "stdout",
          "output_type": "stream",
          "text": [
            "palindrome\n"
          ]
        }
      ],
      "source": [
        "#string palindrome\n",
        "x=\"amma\"\n",
        "if(x==x[::-1]):\n",
        "  print(\"palindrome\")\n",
        "else:\n",
        "  print(\"not\")"
      ]
    },
    {
      "cell_type": "code",
      "execution_count": null,
      "metadata": {
        "colab": {
          "base_uri": "https://localhost:8080/"
        },
        "id": "PUZXWB83T8K7",
        "outputId": "3c61f9fa-86ed-4398-e09d-1a3a260b5731"
      },
      "outputs": [
        {
          "name": "stdout",
          "output_type": "stream",
          "text": [
            "anagram\n"
          ]
        }
      ],
      "source": [
        "#string anagram\n",
        "x=\"scilent\"\n",
        "y=\"liscent\"\n",
        "if(sorted(x)==sorted(y)):\n",
        "  print(\"anagram\")\n",
        "else:\n",
        "  print(\"not\")"
      ]
    },
    {
      "cell_type": "code",
      "execution_count": null,
      "metadata": {
        "colab": {
          "base_uri": "https://localhost:8080/"
        },
        "id": "0H_XIBOxUhFg",
        "outputId": "cfbb1eea-ff0c-479f-d8c4-9c57d49bd50d"
      },
      "outputs": [
        {
          "name": "stdout",
          "output_type": "stream",
          "text": [
            "enter length of password..:8\n",
            "['c']\n",
            "c\n"
          ]
        }
      ],
      "source": [
        "#password generator\n",
        "import random\n",
        "a=\"abcdefghijklmnopqrstuvwxyz\"\n",
        "b=\"ABCDEFGHIJKLMNOPQRSTUVWXYZ\"\n",
        "C=\"1234567890\"\n",
        "d=\"!@#$%^&*(){}>~-_+=:;'<>,/?\"\n",
        "e=\"a+b+c+d\"\n",
        "l=int(input(\"enter length of password..:\"))\n",
        "f=random. sample(e,1)\n",
        "print(f)\n",
        "g=\"\".join(f)\n",
        "print(g)"
      ]
    },
    {
      "cell_type": "code",
      "execution_count": null,
      "metadata": {
        "colab": {
          "base_uri": "https://localhost:8080/"
        },
        "id": "7E-58ILwZgeM",
        "outputId": "6d80690b-3a6b-4403-938f-df965f63996c"
      },
      "outputs": [
        {
          "name": "stdout",
          "output_type": "stream",
          "text": [
            "28\n",
            "3\n",
            "7\n",
            "BRILLIANT COMPUTER EDUCATION\n",
            "brilliant computer education\n",
            "Brilliant Computer Education\n",
            "BRILLIANT COMPUTER EDUCATION\n",
            "brilliant computer education\n",
            "brilliant cxmputer educatixn\n",
            "brilliant computer education\n",
            "brilliant computer education\n",
            "brilliant computer education\n",
            "00brilliant computer education\n",
            "True\n",
            "False\n"
          ]
        }
      ],
      "source": [
        "#string methods\n",
        "a=\"brilliant computer education\"\n",
        "b=\"ongole\"\n",
        "c=\"state bank of india\"\n",
        "d=\"          indiatimes\"\n",
        "print(len(a))\n",
        "print(a.count('i'))\n",
        "print(a.index('n'))\n",
        "print(a.upper())\n",
        "print(a.lower())\n",
        "print(a.title())\n",
        "print(a.swapcase())\n",
        "print(a.casefold())\n",
        "print(a.replace('o','x'))\n",
        "print(a.strip())\n",
        "print(a.lstrip())\n",
        "print(a.rstrip())\n",
        "print(a.zfill(30))\n",
        "print(a.startswith(\"bri\"))\n",
        "print(a.endswith(\"nd\"))\n"
      ]
    },
    {
      "cell_type": "code",
      "execution_count": null,
      "metadata": {
        "colab": {
          "base_uri": "https://localhost:8080/"
        },
        "id": "xiAv6lZacEOl",
        "outputId": "c2c8c9e5-bf45-4cc8-df97-8b378bff7e58"
      },
      "outputs": [
        {
          "name": "stdout",
          "output_type": "stream",
          "text": [
            "abc  1*2  pqr  1*2  as12\n"
          ]
        }
      ],
      "source": [
        "#maketrans,trancate\n",
        "txt=\"abc  def  pqr  def  asdf\"\n",
        "mytable=txt.maketrans(\"def\",\"1*2\")\n",
        "print(txt.translate(mytable))"
      ]
    },
    {
      "cell_type": "code",
      "execution_count": null,
      "metadata": {
        "colab": {
          "base_uri": "https://localhost:8080/"
        },
        "id": "O7SAW0J5cs-7",
        "outputId": "afb99a1d-1839-426a-faf8-94c23027e560"
      },
      "outputs": [
        {
          "name": "stdout",
          "output_type": "stream",
          "text": [
            "state  bank  of  india"
          ]
        }
      ],
      "source": [
        "#printing a string using for loop\n",
        "x=\"state  bank  of  india\"\n",
        "for i in x:\n",
        "  print(i,end=\"\")"
      ]
    },
    {
      "cell_type": "code",
      "execution_count": null,
      "metadata": {
        "colab": {
          "base_uri": "https://localhost:8080/"
        },
        "id": "Zwhn9Y_odAmg",
        "outputId": "6df74642-afc7-49e1-89fd-459e12ca92ad"
      },
      "outputs": [
        {
          "name": "stdout",
          "output_type": "stream",
          "text": [
            "state bank of india\n",
            "number of spaces nsp\n"
          ]
        }
      ],
      "source": [
        "#finding number of charaters in astring\n",
        "c=0\n",
        "x=\"state bank of india\"\n",
        "for i in x:\n",
        "  print(i,end=\"\")\n",
        "if(i==\"\"):\n",
        "  nsp=nsp+1\n",
        "  \"continue\";\n",
        "print()\n",
        "print(\"number of spaces\", 'nsp')"
      ]
    },
    {
      "cell_type": "code",
      "execution_count": null,
      "metadata": {
        "colab": {
          "base_uri": "https://localhost:8080/"
        },
        "id": "PVnNhU0W7BRb",
        "outputId": "a2e9d74a-64a2-4b99-c3bf-0c98aec965f1"
      },
      "outputs": [
        {
          "name": "stdout",
          "output_type": "stream",
          "text": [
            "state bank of india\n",
            "number of spaces 0\n"
          ]
        }
      ],
      "source": [
        "#finding number of spacess,in a string\n",
        "nsp=0\n",
        "x=\"state bank of india\"\n",
        "for i in x:\n",
        "   print(i, end=\"\")\n",
        "if(i==\"\"):\n",
        "  nsp=nsp+1\n",
        "  \"continue\";\n",
        "print()\n",
        "print(\"number of spaces\",nsp)"
      ]
    },
    {
      "cell_type": "code",
      "execution_count": null,
      "metadata": {
        "colab": {
          "base_uri": "https://localhost:8080/"
        },
        "id": "p8UOP9bke5KT",
        "outputId": "f0443e15-81de-47e6-9cdf-1a9ad7527230"
      },
      "outputs": [
        {
          "name": "stdout",
          "output_type": "stream",
          "text": [
            "pen\n",
            "pencil\n",
            "book\n",
            "pen\n",
            "pencil\n",
            "book\n"
          ]
        }
      ],
      "source": [
        "#calling a function\n",
        "def frlist():\n",
        "  print(\"pen\")\n",
        "  print(\"pencil\")\n",
        "  print(\"book\")\n",
        "frlist()\n",
        "frlist()"
      ]
    },
    {
      "cell_type": "code",
      "execution_count": null,
      "metadata": {
        "colab": {
          "base_uri": "https://localhost:8080/"
        },
        "id": "0oDtCiTPffgl",
        "outputId": "a546a023-6a6d-4513-8943-07080726d345"
      },
      "outputs": [
        {
          "name": "stdout",
          "output_type": "stream",
          "text": [
            "pen\n",
            "pencil\n",
            "book\n",
            "pen\n",
            "pencil\n",
            "book\n"
          ]
        }
      ],
      "source": [
        "#proram without a function\n",
        "print(\"pen\")\n",
        "print(\"pencil\")\n",
        "print(\"book\")\n",
        "print(\"pen\")\n",
        "print(\"pencil\")\n",
        "print(\"book\")"
      ]
    },
    {
      "cell_type": "code",
      "execution_count": null,
      "metadata": {
        "colab": {
          "base_uri": "https://localhost:8080/"
        },
        "id": "psSWZgcjf6De",
        "outputId": "58958afc-e6e5-4e41-fa2c-a5de78722ca1"
      },
      "outputs": [
        {
          "name": "stdout",
          "output_type": "stream",
          "text": [
            "pen\n",
            "pencle\n",
            "book\n",
            "...................\n",
            "pen\n",
            "pencle\n",
            "book\n"
          ]
        }
      ],
      "source": [
        "#calling a function\n",
        "def frlist():\n",
        "  print(\"pen\")\n",
        "  print(\"pencle\")\n",
        "  print(\"book\")\n",
        "frlist()\n",
        "print(\"...................\")\n",
        "frlist()"
      ]
    },
    {
      "cell_type": "code",
      "execution_count": null,
      "metadata": {
        "colab": {
          "base_uri": "https://localhost:8080/"
        },
        "id": "6qMr0-l3gb01",
        "outputId": "6f4de39b-12f1-4fc7-ae8f-749d30e8fd1b"
      },
      "outputs": [
        {
          "name": "stdout",
          "output_type": "stream",
          "text": [
            "***********"
          ]
        }
      ],
      "source": [
        "#calling a function\n",
        "def starline():\n",
        "  for i in range(11):\n",
        "    print(\"*\",end=\"\")\n",
        "starline()"
      ]
    },
    {
      "cell_type": "code",
      "execution_count": null,
      "metadata": {
        "colab": {
          "base_uri": "https://localhost:8080/"
        },
        "id": "OmEbD3OTg1tA",
        "outputId": "895972d7-c735-4efe-bff5-8de0d39b81a0"
      },
      "outputs": [
        {
          "name": "stdout",
          "output_type": "stream",
          "text": [
            "***********\n",
            " nipuna technologies\n"
          ]
        },
        {
          "data": {
            "text/plain": [
              "<function __main__.starline()>"
            ]
          },
          "execution_count": 37,
          "metadata": {},
          "output_type": "execute_result"
        }
      ],
      "source": [
        "#calling a function\n",
        "starline()\n",
        "print(\"\\n nipuna technologies\")\n",
        "starline"
      ]
    },
    {
      "cell_type": "code",
      "execution_count": null,
      "metadata": {
        "colab": {
          "base_uri": "https://localhost:8080/"
        },
        "id": "l3wn6Bx1hO8k",
        "outputId": "c8b58aff-81b5-4158-8c2b-6cf25cf3040c"
      },
      "outputs": [
        {
          "name": "stdout",
          "output_type": "stream",
          "text": [
            "sum= 8\n"
          ]
        }
      ],
      "source": [
        "#function without arguments without return type\n",
        "def mysum():\n",
        "  a=5\n",
        "  b=3\n",
        "  c=a+b\n",
        "  print(\"sum=\",c)\n",
        "mysum()"
      ]
    },
    {
      "cell_type": "code",
      "execution_count": null,
      "metadata": {
        "colab": {
          "base_uri": "https://localhost:8080/"
        },
        "id": "lDy5JL49hl2V",
        "outputId": "ba2900b2-c691-4eb0-efda-3e7ab6b30228"
      },
      "outputs": [
        {
          "name": "stdout",
          "output_type": "stream",
          "text": [
            "sum= 30\n"
          ]
        }
      ],
      "source": [
        "#function with arguemnts without return type\n",
        "def mysum(x,y):\n",
        "  a=x\n",
        "  b=y\n",
        "  c=a+b\n",
        "  print(\"sum=\",c)\n",
        "mysum(20,10)"
      ]
    },
    {
      "cell_type": "code",
      "execution_count": null,
      "metadata": {
        "colab": {
          "base_uri": "https://localhost:8080/"
        },
        "id": "P2I_CXfQiC78",
        "outputId": "6142000c-6b4d-4f64-fa06-d0e219dc3c8f"
      },
      "outputs": [
        {
          "name": "stdout",
          "output_type": "stream",
          "text": [
            "sum= 8\n"
          ]
        }
      ],
      "source": [
        "#funtion without arguments with return type\n",
        "def mysum():\n",
        "  a=5\n",
        "  b=3\n",
        "  c=a+b\n",
        "  return c\n",
        "print(\"sum=\",mysum())"
      ]
    },
    {
      "cell_type": "code",
      "execution_count": null,
      "metadata": {
        "colab": {
          "base_uri": "https://localhost:8080/"
        },
        "id": "UvLcJWeQidt6",
        "outputId": "b605d109-2317-409b-b94f-a88ac72407de"
      },
      "outputs": [
        {
          "name": "stdout",
          "output_type": "stream",
          "text": [
            "sum= 39\n"
          ]
        }
      ],
      "source": [
        "#funtion with arguments with return type\n",
        "def mysum(x,y):\n",
        "  a=x\n",
        "  b=y\n",
        "  c=x+y\n",
        "  return c\n",
        "t=mysum(20,19)\n",
        "print(\"sum=\",t)"
      ]
    },
    {
      "cell_type": "code",
      "execution_count": null,
      "metadata": {
        "colab": {
          "base_uri": "https://localhost:8080/",
          "height": 36
        },
        "id": "G7FP8RDli_RT",
        "outputId": "1cdcdc63-86cc-41c2-940e-f57eb318b957"
      },
      "outputs": [
        {
          "data": {
            "application/vnd.google.colaboratory.intrinsic+json": {
              "type": "string"
            },
            "text/plain": [
              "'fib(n-1)+fib(n-2)'"
            ]
          },
          "execution_count": 9,
          "metadata": {},
          "output_type": "execute_result"
        }
      ],
      "source": [
        "#sibenar ke using recursion\n",
        "def fib(n):\n",
        "  if n<=1:\n",
        "    return n\n",
        "  else:\n",
        "    return(\"fib(n-1)+fib(n-2)\")\n",
        "  x=int(input(\"enter x\"))\n",
        "  for i in range(x):\n",
        "    print(fib(i))\n",
        "fib(100)\n"
      ]
    },
    {
      "cell_type": "code",
      "execution_count": null,
      "metadata": {
        "colab": {
          "base_uri": "https://localhost:8080/"
        },
        "id": "ClF2YxyVj4MZ",
        "outputId": "c2ad50fb-6091-4426-da81-40a83a10fdb4"
      },
      "outputs": [
        {
          "name": "stdout",
          "output_type": "stream",
          "text": [
            "sum: 8\n",
            "sum: 10\n",
            "sum: 110\n"
          ]
        }
      ],
      "source": [
        "#*args\n",
        "def adder(*args):\n",
        "  sum=0\n",
        "  for n in args:\n",
        "    sum=sum+n\n",
        "  print(\"sum:\",sum)\n",
        "adder(3,5)\n",
        "adder(1,2,3,4)\n",
        "adder(2,12,19,45,32)"
      ]
    },
    {
      "cell_type": "code",
      "execution_count": null,
      "metadata": {
        "colab": {
          "base_uri": "https://localhost:8080/"
        },
        "id": "HzSXHQ3Bktdy",
        "outputId": "a2d5e393-5060-4108-ef3f-cffbba069d08"
      },
      "outputs": [
        {
          "name": "stdout",
          "output_type": "stream",
          "text": [
            "\n",
            " data type of argument: <class 'dict'>\n",
            "firstname is sita\n",
            "lastname is sharma\n",
            "age is 22\n",
            "phone is 1234567890\n",
            "\n",
            " data type of argument: <class 'dict'>\n",
            "firstname is john\n",
            "lastname is wood\n",
            "email is johnwood@nomail.com\n",
            "country is wakanda\n",
            "age is 35\n",
            "phone is 9876543210\n"
          ]
        }
      ],
      "source": [
        "#**kwargs\n",
        "def intro(**data):\n",
        "  print(\"\\n data type of argument:\",type(data))\n",
        "  for key ,value in data .items():\n",
        "    print(\"{} is {}\".format(key, value))\n",
        "intro(firstname=\"sita\",lastname=\"sharma\",age=22,phone=1234567890)\n",
        "intro(firstname=\"john\",lastname=\"wood\",email=\"johnwood@nomail.com\",country=\"wakanda\",age=35,phone=9876543210)"
      ]
    },
    {
      "cell_type": "code",
      "execution_count": null,
      "metadata": {
        "colab": {
          "base_uri": "https://localhost:8080/"
        },
        "id": "H8RYaGoIreC2",
        "outputId": "af2226c9-87bb-49d5-e00e-5b9c9f27fc9b"
      },
      "outputs": [
        {
          "name": "stdout",
          "output_type": "stream",
          "text": [
            "3145\n"
          ]
        }
      ],
      "source": [
        "#partial function without comments\n",
        "from functools import partial\n",
        "def f(a,b,c,x):\n",
        "  return 1000*a+100*b+10*c+x\n",
        "g=partial(f,3,1,4)\n",
        "print(g(5))"
      ]
    },
    {
      "cell_type": "code",
      "execution_count": null,
      "metadata": {
        "colab": {
          "base_uri": "https://localhost:8080/"
        },
        "id": "5P5dtsuwsdmC",
        "outputId": "e13c3f91-1fa5-4950-e7fd-38c8fe738068"
      },
      "outputs": [
        {
          "name": "stdout",
          "output_type": "stream",
          "text": [
            "[]\n",
            "<class 'list'>\n"
          ]
        }
      ],
      "source": [
        "#creating empty list\n",
        "x=[]\n",
        "print(x)\n",
        "print(type(x))"
      ]
    },
    {
      "cell_type": "code",
      "execution_count": null,
      "metadata": {
        "colab": {
          "base_uri": "https://localhost:8080/"
        },
        "id": "KSAaUX0PezJn",
        "outputId": "f7931bc0-5f5b-44e9-dac5-7a493c4c41ac"
      },
      "outputs": [
        {
          "name": "stdout",
          "output_type": "stream",
          "text": [
            "[19, 20, 67, 87, 9, 43]\n",
            "<class 'list'>\n"
          ]
        }
      ],
      "source": [
        "#creating a list with list items & print\n",
        "x=[19,20,67,87,9,43]\n",
        "print(x)\n",
        "print(type(x))"
      ]
    },
    {
      "cell_type": "code",
      "execution_count": null,
      "metadata": {
        "colab": {
          "base_uri": "https://localhost:8080/"
        },
        "id": "O_EJB4TdfFc4",
        "outputId": "9da95c11-d2f9-439a-9fda-6ceb4c10d3ee"
      },
      "outputs": [
        {
          "name": "stdout",
          "output_type": "stream",
          "text": [
            "[1, 2, 3, 4, 5, 6]\n",
            "[11.5, 9.6, 34.65, 44.63, 44.6]\n",
            "[11j, 5j, 7j, 33j, 90j, 34j]\n",
            "['pen', 'pencil', 'book', 'eraser', 'scale']\n"
          ]
        }
      ],
      "source": [
        "#creating a list with different data types\n",
        "x=[1,2,3,4,5,6]\n",
        "print(x)\n",
        "x=[11.5,9.6,34.65,44.63,44.6]\n",
        "print(x)\n",
        "x=[11j,5j,7j,33j,90j,34j]\n",
        "print(x)\n",
        "x=[\"pen\",\"pencil\",\"book\",\"eraser\",\"scale\"]\n",
        "print(x)"
      ]
    },
    {
      "cell_type": "code",
      "execution_count": null,
      "metadata": {
        "colab": {
          "base_uri": "https://localhost:8080/"
        },
        "id": "UT4zVl83gWlt",
        "outputId": "e273c315-70e9-439e-b95b-b71bd9152881"
      },
      "outputs": [
        {
          "name": "stdout",
          "output_type": "stream",
          "text": [
            "[101, 'anil', 45655.74, 'b']\n"
          ]
        }
      ],
      "source": [
        "#creatine alist with different data types\n",
        "emp_det=[101,\"anil\",45655.74,\"b\"]\n",
        "print(emp_det)"
      ]
    },
    {
      "cell_type": "code",
      "execution_count": null,
      "metadata": {
        "colab": {
          "base_uri": "https://localhost:8080/"
        },
        "id": "ZaFZc_LXgxR_",
        "outputId": "2801c786-20f7-461d-abcb-26a4920601a0"
      },
      "outputs": [
        {
          "name": "stdout",
          "output_type": "stream",
          "text": [
            "[1, 234, 45, 56, 889, 44, 56, 78, 89]\n",
            "[1, 234, 45, 56, 889, 44, 56, 78, 89, 100]\n",
            "[1, 234, 45, 56, 889, 44, 56, 78, 89, 100, 34, 56, 65, 78, 89]\n",
            "[1, 234, 45, 56, 889, 11, 44, 56, 78, 89, 100, 34, 56, 65, 78, 89]\n"
          ]
        }
      ],
      "source": [
        "#adding elements\n",
        "x=[1,234,45,56,889,44,56,78,89]\n",
        "print(x)\n",
        "x.append(100)\n",
        "print(x)\n",
        "x.extend([34,56,65,78,89])\n",
        "print(x)\n",
        "x.insert(5,11)\n",
        "print(x)"
      ]
    },
    {
      "cell_type": "code",
      "execution_count": null,
      "metadata": {
        "colab": {
          "base_uri": "https://localhost:8080/"
        },
        "id": "fpD7XYpbhle6",
        "outputId": "7be4b3d6-20f2-4ce5-d381-f14cd2721b23"
      },
      "outputs": [
        {
          "name": "stdout",
          "output_type": "stream",
          "text": [
            "['pen', 'pencil', 'book', 'eraser', 'scale', 'apple', 'mango', 'grapes', 'orange']\n",
            "['pen', 'pencil', 'book', 'eraser', 'scale', 'apple', 'mango', 'grapes']\n",
            "['pen', 'pencil', 'book', 'scale', 'apple', 'mango', 'grapes']\n",
            "['pen', 'pencil', 'book', 'apple', 'mango', 'grapes']\n",
            "['pen', 'pencil', 'book', 'apple', 'grapes']\n",
            "[]\n"
          ]
        }
      ],
      "source": [
        "#removing elements from the list\n",
        "x=[\"pen\",\"pencil\",\"book\",\"eraser\",\"scale\",\"apple\",\"mango\",\"grapes\",\"orange\"]\n",
        "print(x)\n",
        "x.pop()\n",
        "print(x)\n",
        "x.pop(3)\n",
        "print(x)\n",
        "del x[3]\n",
        "print(x)\n",
        "x.remove(\"mango\")\n",
        "print(x)\n",
        "x.clear()\n",
        "print(x)\n",
        "del x\n"
      ]
    },
    {
      "cell_type": "code",
      "execution_count": null,
      "metadata": {
        "colab": {
          "base_uri": "https://localhost:8080/"
        },
        "id": "IjWkEJeTje59",
        "outputId": "e9bad4a6-87d3-4360-d977-691f269b010a"
      },
      "outputs": [
        {
          "name": "stdout",
          "output_type": "stream",
          "text": [
            "[1, 234, 45, 56, 7, 889, 44, 56]\n",
            "45\n"
          ]
        }
      ],
      "source": [
        "x=[1,234,45,56,7,889,44,56]\n",
        "print(x)\n",
        "print(x[2])"
      ]
    },
    {
      "cell_type": "code",
      "execution_count": null,
      "metadata": {
        "colab": {
          "base_uri": "https://localhost:8080/"
        },
        "id": "H8JHoufPj1R2",
        "outputId": "6de28ebe-0cba-4856-aa3d-83af3f7f6b07"
      },
      "outputs": [
        {
          "name": "stdout",
          "output_type": "stream",
          "text": [
            "[1, 234, 45, 56, 7, 889, 44, 56, 78, 89, 45, 67, 89, 90, 5, 567, 789, 90]\n",
            "[1, 234, 45, 56, 7]\n",
            "[1, 45, 7, 44, 78, 45]\n",
            "[56, 78, 89, 45]\n",
            "[1, 234, 45, 56, 7, 889, 44, 56, 78, 89, 45, 67, 89, 90, 5, 567, 789]\n",
            "[56, 89, 67, 90, 567]\n",
            "[90, 5, 567, 789, 90]\n"
          ]
        }
      ],
      "source": [
        "#accessing list elements(slicing)\n",
        "x=[1,234,45,56,7,889,44,56,78,89,45,67,89,90,5,567,789,90]\n",
        "print(x[:])\n",
        "print(x[0:5])\n",
        "print(x[0:11:2])\n",
        "print(x[7:11])\n",
        "print(x[0:-1])\n",
        "print(x[7:-2:2])\n",
        "print(x[-5:])"
      ]
    },
    {
      "cell_type": "code",
      "execution_count": null,
      "metadata": {
        "colab": {
          "base_uri": "https://localhost:8080/"
        },
        "id": "6bfYvqI3k_vF",
        "outputId": "fa0a9bf5-3444-4215-cba7-69a3516a3e2a"
      },
      "outputs": [
        {
          "name": "stdout",
          "output_type": "stream",
          "text": [
            "[1, 234, 45, 56, 7, 889, 44, 56, 78, 89, 45, 67, 89, 90, 5, 567, 789, 90]\n",
            "[90, 789, 567, 5, 90, 89, 67, 45, 89, 78, 56, 44, 889, 7, 56, 45, 234, 1]\n"
          ]
        }
      ],
      "source": [
        "#reverse a list\n",
        "x=[1,234,45,56,7,889,44,56,78,89,45,67,89,90,5,567,789,90]\n",
        "print(x)\n",
        "print(x[::-1])"
      ]
    },
    {
      "cell_type": "code",
      "execution_count": null,
      "metadata": {
        "colab": {
          "base_uri": "https://localhost:8080/"
        },
        "id": "7VccHzhBleSG",
        "outputId": "025c6534-83e5-46f5-c4c5-73f98a333470"
      },
      "outputs": [
        {
          "name": "stdout",
          "output_type": "stream",
          "text": [
            "[1, 2, 3, 4, 5, 6, 7, 9, 8]\n",
            "[1, 2, 3, 4, 5, 6, 7, 8, 9]\n",
            "[9, 8, 7, 6, 5, 4, 3, 2, 1]\n"
          ]
        }
      ],
      "source": [
        "#sorting\n",
        "x=[1,2,3,4,5,6,7,9,8]\n",
        "print(x)\n",
        "print(sorted(x))\n",
        "print(sorted(x,reverse= True))"
      ]
    },
    {
      "cell_type": "code",
      "execution_count": null,
      "metadata": {
        "colab": {
          "base_uri": "https://localhost:8080/"
        },
        "id": "IVs7zFDVmev_",
        "outputId": "7886682f-27d4-4fab-afc7-2949cd94228d"
      },
      "outputs": [
        {
          "name": "stdout",
          "output_type": "stream",
          "text": [
            "[1, 2, 3, 4, 5, 6, 7, 9, 8]\n",
            "[1, 2, 3, 4, 5, 6, 7, 8, 9]\n"
          ]
        }
      ],
      "source": [
        "#sorting\n",
        "x=[1,2,3,4,5,6,7,9,8]\n",
        "print(x)\n",
        "x.sort()\n",
        "print(x)\n",
        "x.sort(reverse=True)"
      ]
    },
    {
      "cell_type": "code",
      "execution_count": null,
      "metadata": {
        "colab": {
          "base_uri": "https://localhost:8080/"
        },
        "id": "QA-UTpGWnBCW",
        "outputId": "8f26e748-330e-4f7f-9621-d899487c8e04"
      },
      "outputs": [
        {
          "name": "stdout",
          "output_type": "stream",
          "text": [
            "sum= 435\n",
            "max= 74\n",
            "min= 8\n",
            "length= 10\n",
            "count= 2\n",
            "index= 6\n"
          ]
        }
      ],
      "source": [
        "#list methods\n",
        "x=[15,24,34,44,54,64,74,44,74,8]\n",
        "print(\"sum=\",sum(x))\n",
        "print(\"max=\",max(x))\n",
        "print(\"min=\",min(x))\n",
        "print(\"length=\",len(x))\n",
        "print(\"count=\",x.count(44))\n",
        "print(\"index=\",x.index(74))"
      ]
    },
    {
      "cell_type": "code",
      "execution_count": null,
      "metadata": {
        "colab": {
          "base_uri": "https://localhost:8080/"
        },
        "id": "z05gL7PvoIML",
        "outputId": "a953ac49-649d-4063-debf-37254660c689"
      },
      "outputs": [
        {
          "name": "stdout",
          "output_type": "stream",
          "text": [
            "average= 37.0\n"
          ]
        }
      ],
      "source": [
        "#average\n",
        "x=[15,24,34,44,54,64,74,44,9,8]\n",
        "print(\"average=\",sum(x)/len(x))"
      ]
    },
    {
      "cell_type": "code",
      "execution_count": null,
      "metadata": {
        "colab": {
          "base_uri": "https://localhost:8080/"
        },
        "id": "96dV4pmhokXb",
        "outputId": "1559e7af-82a9-404d-ec47-6361c807d59c"
      },
      "outputs": [
        {
          "name": "stdout",
          "output_type": "stream",
          "text": [
            "in= False\n",
            "not in= True\n"
          ]
        }
      ],
      "source": [
        "#membership operators\n",
        "x=[56,67,89,90,65,78,89,54]\n",
        "print(\"in=\",100 in x)\n",
        "print(\"not in=\",98 not in x)"
      ]
    },
    {
      "cell_type": "code",
      "execution_count": null,
      "metadata": {
        "colab": {
          "base_uri": "https://localhost:8080/"
        },
        "id": "oYFSd8_Hn5Xo",
        "outputId": "255d955d-b21c-42d1-e20f-cf965acc5b08"
      },
      "outputs": [
        {
          "name": "stdout",
          "output_type": "stream",
          "text": [
            "all= True\n",
            "all= True\n"
          ]
        }
      ],
      "source": [
        "#all\n",
        "x=[1,2,3,4,5,6,7,8,9]\n",
        "y=[]\n",
        "print(\"all=\",all(x))\n",
        "print(\"all=\",all(y))"
      ]
    },
    {
      "cell_type": "code",
      "execution_count": null,
      "metadata": {
        "colab": {
          "base_uri": "https://localhost:8080/"
        },
        "id": "OsG_vNDbpd-a",
        "outputId": "ac741c36-e366-4504-d669-e7d5f940bb0d"
      },
      "outputs": [
        {
          "name": "stdout",
          "output_type": "stream",
          "text": [
            "any= True\n",
            "any= False\n"
          ]
        }
      ],
      "source": [
        "#any\n",
        "x=[1,2,3,4,5,6,7,8,9]\n",
        "y=[]\n",
        "print(\"any=\",any(x))\n",
        "print(\"any=\",any(y))"
      ]
    },
    {
      "cell_type": "code",
      "execution_count": null,
      "metadata": {
        "colab": {
          "base_uri": "https://localhost:8080/"
        },
        "id": "EIADufr9p8xz",
        "outputId": "dafc4dbb-a13d-4e74-e649-d8d792ccff4b"
      },
      "outputs": [
        {
          "name": "stdout",
          "output_type": "stream",
          "text": [
            "['pen', 'pencil', 'book', 'eraser', 'scale']\n",
            "<class 'list'>\n",
            "[(0, 'pen'), (1, 'pencil'), (2, 'book'), (3, 'eraser'), (4, 'scale')]\n",
            "<class 'enumerate'>\n"
          ]
        }
      ],
      "source": [
        "#enumeration\n",
        "x=[\"pen\",\"pencil\",\"book\",\"eraser\",\"scale\"]\n",
        "print(x)\n",
        "print(type(x))\n",
        "y=enumerate(x)\n",
        "print(list(y))\n",
        "print(type(y))"
      ]
    },
    {
      "cell_type": "code",
      "execution_count": null,
      "metadata": {
        "colab": {
          "base_uri": "https://localhost:8080/"
        },
        "id": "Te9BkZr2q0hk",
        "outputId": "9d10bbc5-b479-4a9f-c1e8-4047ff42c3cc"
      },
      "outputs": [
        {
          "name": "stdout",
          "output_type": "stream",
          "text": [
            "['pen', 'pencil', 'book', 'eraser', 'scale']\n",
            "<class 'list'>\n",
            "[(100, 'pen'), (101, 'pencil'), (102, 'book'), (103, 'eraser'), (104, 'scale')]\n",
            "<class 'enumerate'>\n"
          ]
        }
      ],
      "source": [
        "x=[\"pen\",\"pencil\",\"book\",\"eraser\",\"scale\"]\n",
        "print(x)\n",
        "print(type(x))\n",
        "y=enumerate(x,start=100)\n",
        "print(list(y))\n",
        "print(type(y))"
      ]
    },
    {
      "cell_type": "code",
      "execution_count": null,
      "metadata": {
        "colab": {
          "base_uri": "https://localhost:8080/"
        },
        "id": "IQNege5BrkIw",
        "outputId": "89ffc94a-ba77-4c6e-90b4-6234fcfb1d51"
      },
      "outputs": [
        {
          "name": "stdout",
          "output_type": "stream",
          "text": [
            "[1, 2, 3, 4, 5]\n",
            "3\n",
            "[1, 2, 11, 4, 5]\n",
            "11\n"
          ]
        }
      ],
      "source": [
        "#updating a value\n",
        "x=[1,2,3,4,5]\n",
        "print(x)\n",
        "print(x[2])\n",
        "x[2]=11\n",
        "print(x)\n",
        "print(x[2])"
      ]
    },
    {
      "cell_type": "code",
      "execution_count": null,
      "metadata": {
        "colab": {
          "base_uri": "https://localhost:8080/"
        },
        "id": "n6PdGtASsBVr",
        "outputId": "22e1bc21-7406-4d25-aab8-9acc4ecfab79"
      },
      "outputs": [
        {
          "name": "stdout",
          "output_type": "stream",
          "text": [
            "[1, 2, 3, 4, 5]\n",
            "[6, 7, 8, 9, 10]\n",
            "[1, 2, 3, 4, 5, 6, 7, 8, 9, 10]\n"
          ]
        }
      ],
      "source": [
        "#list concatination\n",
        "a=[1,2,3,4,5]\n",
        "b=[6,7,8,9,10]\n",
        "print(a)\n",
        "print(b)\n",
        "print(a+b)"
      ]
    },
    {
      "cell_type": "code",
      "execution_count": null,
      "metadata": {
        "colab": {
          "base_uri": "https://localhost:8080/"
        },
        "id": "RLw1pPRmsbmv",
        "outputId": "e9277799-ed15-4aed-9b09-e523d095efe5"
      },
      "outputs": [
        {
          "name": "stdout",
          "output_type": "stream",
          "text": [
            "[1, 2, 3, 4, 5, 1, 2, 3, 4, 5, 1, 2, 3, 4, 5]\n",
            "[1, 2, 3, 4, 5, 1, 2, 3, 4, 5, 1, 2, 3, 4, 5]\n"
          ]
        }
      ],
      "source": [
        "#replication\n",
        "a=[1,2,3,4,5]\n",
        "print(a*3)\n",
        "print(3*a)"
      ]
    },
    {
      "cell_type": "code",
      "execution_count": null,
      "metadata": {
        "colab": {
          "base_uri": "https://localhost:8080/"
        },
        "id": "DhNNDzxIsvJd",
        "outputId": "88c1bcc3-20f2-4578-a63e-a2ece457fde4"
      },
      "outputs": [
        {
          "name": "stdout",
          "output_type": "stream",
          "text": [
            "[1, 2, 3, 4, 5]\n",
            "<built-in method copy of list object at 0x7c4bba710680>\n"
          ]
        }
      ],
      "source": [
        "#copy\n",
        "x=[1,2,3,4,5]\n",
        "y=x.copy\n",
        "print(x)\n",
        "print(y)"
      ]
    },
    {
      "cell_type": "code",
      "execution_count": null,
      "metadata": {
        "colab": {
          "base_uri": "https://localhost:8080/"
        },
        "id": "VffPuybytEWZ",
        "outputId": "fb26b0f8-9d78-4ff6-80a4-014cd1f8dda1"
      },
      "outputs": [
        {
          "name": "stdout",
          "output_type": "stream",
          "text": [
            "[1, 2, 3, 4, 5] [1, 4, 9, 16, 25]\n"
          ]
        }
      ],
      "source": [
        "#map\n",
        "def msqrt(x):\n",
        "  return x*x\n",
        "y=[1,2,3,4,5]\n",
        "z=map(msqrt,y)\n",
        "print(y,list(z))"
      ]
    },
    {
      "cell_type": "code",
      "execution_count": null,
      "metadata": {
        "colab": {
          "base_uri": "https://localhost:8080/"
        },
        "id": "BkZC3c2vtmrL",
        "outputId": "9b6d3060-a91a-4c3e-920f-b9e506b8ac89"
      },
      "outputs": [
        {
          "name": "stdout",
          "output_type": "stream",
          "text": [
            "[('sravani', 4), ('sridhar', 1), ('eeshwar', 3), ('maadhav', 2)]\n"
          ]
        }
      ],
      "source": [
        "#zip\n",
        "name=[\"sravani\",\"sridhar\",\"eeshwar\",\"maadhav\"]\n",
        "roll_no=[4,1,3,2]\n",
        "x=zip(name,roll_no)\n",
        "print(list(x))"
      ]
    },
    {
      "cell_type": "code",
      "execution_count": null,
      "metadata": {
        "colab": {
          "base_uri": "https://localhost:8080/"
        },
        "id": "PV6jy-truUE1",
        "outputId": "15c477b1-bcfe-44a5-fd32-1a12814d6c0d"
      },
      "outputs": [
        {
          "name": "stdout",
          "output_type": "stream",
          "text": [
            "[80, 90]\n"
          ]
        }
      ],
      "source": [
        "#filter\n",
        "scores=[70,80,90,50]\n",
        "x=filter(lambda s:s>70,scores)\n",
        "print(list(x))"
      ]
    },
    {
      "cell_type": "code",
      "execution_count": null,
      "metadata": {
        "colab": {
          "base_uri": "https://localhost:8080/"
        },
        "id": "wm7MIDScxIta",
        "outputId": "81da598a-70a7-4007-c0c5-d6797bad64be"
      },
      "outputs": [
        {
          "name": "stdout",
          "output_type": "stream",
          "text": [
            "401076329"
          ]
        }
      ],
      "source": [
        "#accessing elements using for loop\n",
        "x=[40,10,7,6,3,2,9]\n",
        "for i in x:\n",
        "  print(i,end=\"\")"
      ]
    },
    {
      "cell_type": "code",
      "execution_count": null,
      "metadata": {
        "colab": {
          "base_uri": "https://localhost:8080/"
        },
        "id": "TaZS-5Egxg3u",
        "outputId": "a730abce-ceeb-4a10-9cc0-7e25f7b8240e"
      },
      "outputs": [
        {
          "name": "stdout",
          "output_type": "stream",
          "text": [
            "131213135\n",
            "sum= 14.8\n"
          ]
        }
      ],
      "source": [
        "#sum and average of elements of list\n",
        "x=[13,12,13,1,35]\n",
        "s=0\n",
        "for i in x:\n",
        "  print(i,end=\"\")\n",
        "  s=s+i\n",
        "print()\n",
        "print(\"sum=\",s/5)"
      ]
    },
    {
      "cell_type": "code",
      "execution_count": null,
      "metadata": {
        "colab": {
          "base_uri": "https://localhost:8080/"
        },
        "id": "u8chSl7cyCCs",
        "outputId": "bd758b94-47de-467c-e773-b3caec733c0c"
      },
      "outputs": [
        {
          "name": "stdout",
          "output_type": "stream",
          "text": [
            "24"
          ]
        }
      ],
      "source": [
        "#print even numbers from a list\n",
        "x=[1,2,3,4,5]\n",
        "for i in x:\n",
        "  if(i%2==0):\n",
        "    print(i,end=\"\")"
      ]
    },
    {
      "cell_type": "code",
      "execution_count": null,
      "metadata": {
        "colab": {
          "base_uri": "https://localhost:8080/"
        },
        "id": "zQFCBasZye7B",
        "outputId": "7a1c4255-7173-488b-e87d-57a9971922b7"
      },
      "outputs": [
        {
          "name": "stdout",
          "output_type": "stream",
          "text": [
            "[3, 4, 5, 6, 7]\n"
          ]
        }
      ],
      "source": [
        "#arthmentical operation lists\n",
        "a=[1,2,3,4,5]\n",
        "b=[1,2,3,4,5]\n",
        "c=[]\n",
        "for i in range(5):\n",
        "  c.append(a[i]+b[1])\n",
        "print(c)"
      ]
    },
    {
      "cell_type": "code",
      "execution_count": null,
      "metadata": {
        "colab": {
          "base_uri": "https://localhost:8080/"
        },
        "id": "3ncOgHmFzE0O",
        "outputId": "7364e81e-2c47-4116-fe8a-62abfcd532b5"
      },
      "outputs": [
        {
          "name": "stdout",
          "output_type": "stream",
          "text": [
            "enter size..:6\n",
            "5\n",
            "4\n",
            "3\n",
            "5\n",
            "7\n",
            "4\n",
            "[5, 4, 3, 5, 7, 4]\n"
          ]
        }
      ],
      "source": [
        "#accept elements from key bord and print them\n",
        "a=[]\n",
        "n=int(input(\"enter size..:\"))\n",
        "for i in range(0,n):\n",
        "  x=int(input())\n",
        "  a.append(x)\n",
        "print(a)"
      ]
    },
    {
      "cell_type": "code",
      "execution_count": null,
      "metadata": {
        "colab": {
          "base_uri": "https://localhost:8080/"
        },
        "id": "hpUZBu60z2m3",
        "outputId": "43dd9784-a190-4e0c-83d3-cf0c90d6d1fa"
      },
      "outputs": [
        {
          "name": "stdout",
          "output_type": "stream",
          "text": [
            "[1, 2, 3, 4, 5, 6, 7, 8, 9, 10]\n"
          ]
        }
      ],
      "source": [
        "#program without list comprehension\n",
        "x=[]\n",
        "for y in range (1,11):\n",
        "  x.append(y)\n",
        "print(x)"
      ]
    },
    {
      "cell_type": "code",
      "execution_count": null,
      "metadata": {
        "colab": {
          "base_uri": "https://localhost:8080/"
        },
        "id": "fgr66zZu0LyX",
        "outputId": "770bb6e8-f4bd-41fa-9090-0f7a51a2c9b1"
      },
      "outputs": [
        {
          "name": "stdout",
          "output_type": "stream",
          "text": [
            "[1, 2, 3, 4, 5, 6, 7, 8, 9, 10]\n"
          ]
        }
      ],
      "source": [
        "#program with list comprehesion\n",
        "x=[y for y in range(1,11)]\n",
        "print(x)"
      ]
    },
    {
      "cell_type": "code",
      "execution_count": null,
      "metadata": {
        "colab": {
          "base_uri": "https://localhost:8080/"
        },
        "id": "Zbh7Qska0aHG",
        "outputId": "d74d3483-63fa-40a0-9d65-09ae5c726d06"
      },
      "outputs": [
        {
          "name": "stdout",
          "output_type": "stream",
          "text": [
            "[0]\n",
            "[0]\n",
            "[0, 2]\n",
            "[0, 2]\n",
            "[0, 2, 4]\n",
            "[0, 2, 4]\n",
            "[0, 2, 4, 6]\n",
            "[0, 2, 4, 6]\n",
            "[0, 2, 4, 6, 8]\n",
            "[0, 2, 4, 6, 8]\n",
            "[0, 2, 4, 6, 8, 10]\n",
            "[0, 2, 4, 6, 8, 10]\n",
            "[0, 2, 4, 6, 8, 10, 12]\n",
            "[0, 2, 4, 6, 8, 10, 12]\n",
            "[0, 2, 4, 6, 8, 10, 12, 14]\n",
            "[0, 2, 4, 6, 8, 10, 12, 14]\n",
            "[0, 2, 4, 6, 8, 10, 12, 14, 16]\n",
            "[0, 2, 4, 6, 8, 10, 12, 14, 16]\n",
            "[0, 2, 4, 6, 8, 10, 12, 14, 16, 18]\n",
            "[0, 2, 4, 6, 8, 10, 12, 14, 16, 18]\n",
            "[0, 2, 4, 6, 8, 10, 12, 14, 16, 18, 20]\n"
          ]
        }
      ],
      "source": [
        "#program without list compreshenision\n",
        "even_nums=[]\n",
        "for x in range(21):\n",
        "    if x%2==0:\n",
        "      even_nums.append(x)\n",
        "    print(even_nums)"
      ]
    },
    {
      "cell_type": "code",
      "execution_count": null,
      "metadata": {
        "colab": {
          "base_uri": "https://localhost:8080/"
        },
        "id": "HaqejeJY1ByI",
        "outputId": "52d8772f-f119-4e9f-87d0-a99d6cc07ec2"
      },
      "outputs": [
        {
          "name": "stdout",
          "output_type": "stream",
          "text": [
            "[2, 4, 6, 8, 10]\n"
          ]
        }
      ],
      "source": [
        "#program with list comprehenision even numbers between 1 to 10\n",
        "even_nums=[x for x in range (1,11) if x%2==0]\n",
        "print(even_nums)"
      ]
    },
    {
      "cell_type": "code",
      "execution_count": null,
      "metadata": {
        "colab": {
          "base_uri": "https://localhost:8080/"
        },
        "id": "0AylR7ZJ1a-x",
        "outputId": "97a59095-c671-400a-e3fe-904d079adea3"
      },
      "outputs": [
        {
          "name": "stdout",
          "output_type": "stream",
          "text": [
            "(1, 2, 3, 4, 5)\n",
            "<class 'tuple'>\n"
          ]
        }
      ],
      "source": [
        "#tuple\n",
        "x=(1,2,3,4,5)\n",
        "print(x)\n",
        "print(type(x))"
      ]
    },
    {
      "cell_type": "code",
      "execution_count": null,
      "metadata": {
        "id": "bXROmEqS1sQ-"
      },
      "outputs": [],
      "source": [
        "#deleting a tuple\n",
        "x=(1,2,3,4,5)\n",
        "del x"
      ]
    },
    {
      "cell_type": "code",
      "execution_count": null,
      "metadata": {
        "colab": {
          "base_uri": "https://localhost:8080/"
        },
        "id": "zAkUiZGV2C3A",
        "outputId": "a51a9288-1cc7-41b3-ae7c-7adc1c7c7419"
      },
      "outputs": [
        {
          "name": "stdout",
          "output_type": "stream",
          "text": [
            "<class 'set'>\n",
            "{1, 2, 99, 3, 115, 7}\n"
          ]
        }
      ],
      "source": [
        "#set\n",
        "x={1,3,115,3,7,99,2}\n",
        "print(type(x))\n",
        "print(x)"
      ]
    },
    {
      "cell_type": "code",
      "execution_count": null,
      "metadata": {
        "colab": {
          "base_uri": "https://localhost:8080/"
        },
        "id": "Cn8lOZMQ646D",
        "outputId": "81663f1a-a30b-41af-fdf2-cce44de17993"
      },
      "outputs": [
        {
          "name": "stdout",
          "output_type": "stream",
          "text": [
            "they fly to fultill natural activities\n"
          ]
        }
      ],
      "source": [
        "class bird:      #class\n",
        "  def fly(self):  #function\n",
        "    print(\"they fly to fultill natural activities\")\n",
        "varshi=bird()     #object parrot instantiated from the class brid\n",
        "varshi.fly()"
      ]
    },
    {
      "cell_type": "code",
      "execution_count": null,
      "metadata": {
        "colab": {
          "base_uri": "https://localhost:8080/"
        },
        "id": "RF33I9Jh7c9f",
        "outputId": "56758431-1159-4d23-e91f-2b9f96871cdf"
      },
      "outputs": [
        {
          "name": "stdout",
          "output_type": "stream",
          "text": [
            "it melts at room temperature\n"
          ]
        }
      ],
      "source": [
        "class icecrem:      #class\n",
        "  def melt(self):    #function\n",
        "    print(\"it melts at room temperature\")\n",
        "vanilla=icecrem()    #object vanilla\n",
        "vanilla.melt()"
      ]
    },
    {
      "cell_type": "code",
      "execution_count": null,
      "metadata": {
        "colab": {
          "base_uri": "https://localhost:8080/"
        },
        "id": "lb01M1Qf8L7X",
        "outputId": "25a0668d-a568-4101-a10c-91f777b0ca02"
      },
      "outputs": [
        {
          "name": "stdout",
          "output_type": "stream",
          "text": [
            "they fly to fultill natural activitiees\n",
            "........\n",
            "they fly to fultill natural activitiees\n"
          ]
        }
      ],
      "source": [
        "class bird:          #class\n",
        "  def fly(self):      #function\n",
        "    print(\"they fly to fultill natural activitiees\")\n",
        "parrot=bird()         #object parrot instantiated from the  class brid\n",
        "parrot.fly()\n",
        "print(\"........\")\n",
        "pigeon=bird()         #object pigeon instantiaed from the class bird\n",
        "pigeon.fly()"
      ]
    },
    {
      "cell_type": "code",
      "execution_count": null,
      "metadata": {
        "colab": {
          "base_uri": "https://localhost:8080/"
        },
        "id": "bQm7BLoh9Gvg",
        "outputId": "f03bb030-42dd-439d-da3b-16fc7ca67624"
      },
      "outputs": [
        {
          "name": "stdout",
          "output_type": "stream",
          "text": [
            "they fly to fultill natural actities\n",
            "they buid nest to live\n"
          ]
        }
      ],
      "source": [
        "class bird:      #class\n",
        "  def fly(self):  #function\n",
        "    print(\"they fly to fultill natural actities\")\n",
        "  def buildnest(self):#function\n",
        "    print(\"they buid nest to live\")\n",
        "parrot=bird()    #object parrot instantiated from the class bird\n",
        "parrot.fly()\n",
        "parrot.buildnest()"
      ]
    },
    {
      "cell_type": "code",
      "execution_count": null,
      "metadata": {
        "colab": {
          "base_uri": "https://localhost:8080/"
        },
        "id": "2GA4lUwxC0eQ",
        "outputId": "913b8124-40da-4793-b094-fa19b37db06a"
      },
      "outputs": [
        {
          "name": "stdout",
          "output_type": "stream",
          "text": [
            "age of parrot= 5\n",
            "age of parrot= 2\n",
            "age of parrot= 2.3\n",
            "age of parrot= green\n",
            "they fly to fulfill natural activties\n"
          ]
        }
      ],
      "source": [
        "class bird:          #class\n",
        "  def fly(self):     #function\n",
        "    print(\"they fly to fulfill natural activties\")\n",
        "\n",
        "parrot=bird()       #object parrot instantiated from the class bird\n",
        "parrot.age=5\n",
        "parrot.wings=2\n",
        "parrot.weight=2.3\n",
        "parrot.color=\"green\"\n",
        "print(\"age of parrot=\",parrot.age)\n",
        "print(\"age of parrot=\",parrot.wings)\n",
        "print(\"age of parrot=\",parrot.weight)\n",
        "print(\"age of parrot=\",parrot.color)\n",
        "parrot.fly()"
      ]
    },
    {
      "cell_type": "code",
      "execution_count": null,
      "metadata": {
        "colab": {
          "base_uri": "https://localhost:8080/"
        },
        "id": "MKON9nWfE1s8",
        "outputId": "43b101e1-d7e4-4db7-abe5-74022980b4c5"
      },
      "outputs": [
        {
          "name": "stdout",
          "output_type": "stream",
          "text": [
            "price of vanilla= 20\n",
            "quantity of vanilla= 400\n",
            "weight of vanilla= 45.5\n",
            "color of vanilla= white\n",
            "bill amount of vanilla= 8000\n",
            "it melts at room temperature\n"
          ]
        }
      ],
      "source": [
        "class icecream:       #class\n",
        "\n",
        "  def melt(self):    #function without return type\n",
        "    print(\"it melts at room temperature\")\n",
        "\n",
        "  def billamt(self):  #function without return type\n",
        "    return self.price*self.quantity\n",
        "\n",
        "vanilla=icecream()\n",
        "vanilla.price=20\n",
        "vanilla.quantity=400\n",
        "vanilla.weight=45.5\n",
        "vanilla.color=\"white\"\n",
        "print(\"price of vanilla=\",vanilla.price)\n",
        "print(\"quantity of vanilla=\",vanilla.quantity)\n",
        "print(\"weight of vanilla=\",vanilla.weight)\n",
        "print(\"color of vanilla=\",vanilla.color)\n",
        "print(\"bill amount of vanilla=\",vanilla.billamt())\n",
        "vanilla.melt()"
      ]
    },
    {
      "cell_type": "code",
      "execution_count": null,
      "metadata": {
        "colab": {
          "base_uri": "https://localhost:8080/"
        },
        "id": "YLkuvBxbHeRg",
        "outputId": "4b4ee215-2e0b-4fac-ac77-fd659094c985"
      },
      "outputs": [
        {
          "name": "stdout",
          "output_type": "stream",
          "text": [
            "enter a..:20\n",
            "enter b..:10\n",
            "value of a= 20\n",
            "value ofa= 10\n",
            "sum= 30\n"
          ]
        }
      ],
      "source": [
        "class calci:    #class\n",
        "\n",
        "  def getvals(self):  #function\n",
        "    self.a=int(input(\"enter a..:\"))\n",
        "    self.b=int(input(\"enter b..:\"))\n",
        "\n",
        "  def putvals(self):    #function\n",
        "    print(\"value of a=\",self.a)\n",
        "    print(\"value ofa=\",self.b)\n",
        "\n",
        "  def mysum(self):     #object\n",
        "    return self.a+self.b\n",
        "\n",
        "mc=calci()\n",
        "mc.getvals()\n",
        "mc.putvals()\n",
        "print(\"sum=\",mc.mysum())"
      ]
    },
    {
      "cell_type": "code",
      "execution_count": null,
      "metadata": {
        "colab": {
          "base_uri": "https://localhost:8080/"
        },
        "id": "UatJcZyMP-p-",
        "outputId": "533c449e-5cd0-427f-c71c-6f361e3378f6"
      },
      "outputs": [
        {
          "name": "stdout",
          "output_type": "stream",
          "text": [
            "value of a= 5\n",
            "value of b= 3\n",
            "sum= 8\n"
          ]
        }
      ],
      "source": [
        "class calci:     #class\n",
        "\n",
        "  def __init__(self):  #constructor\n",
        "    self.a=5\n",
        "    self.b=3\n",
        "\n",
        "  def putvals(self):     #function\n",
        "    print(\"value of a=\",self.a)\n",
        "    print(\"value of b=\",self.b)\n",
        "\n",
        "  def mysum(self):    #funtion\n",
        "    return self.a+self.b\n",
        "\n",
        "mc=calci()\n",
        "mc.putvals()\n",
        "print(\"sum=\",mc.mysum())"
      ]
    },
    {
      "cell_type": "code",
      "execution_count": null,
      "metadata": {
        "colab": {
          "base_uri": "https://localhost:8080/"
        },
        "id": "AckTL94fTH2Q",
        "outputId": "f2755e4a-9711-47cd-94da-bfe3805e90ad"
      },
      "outputs": [
        {
          "name": "stdout",
          "output_type": "stream",
          "text": [
            "value of a= 20\n",
            "value of b= 10\n",
            "sum= 30\n"
          ]
        }
      ],
      "source": [
        "class calci:    #class\n",
        "  def __init__(self,a,b):   #parameterized constructor\n",
        "    self.a=a\n",
        "    self.b=b\n",
        "\n",
        "  def putvals(self):      #function\n",
        "    print(\"value of a=\",self.a)\n",
        "    print(\"value of b=\",self.b)\n",
        "\n",
        "  def mysum(self):      #function\n",
        "    return self.a+self.b\n",
        "\n",
        "mc=calci(20,10)     #object mc\n",
        "mc.putvals()\n",
        "print(\"sum=\",mc.mysum())"
      ]
    },
    {
      "cell_type": "code",
      "execution_count": null,
      "metadata": {
        "colab": {
          "base_uri": "https://localhost:8080/"
        },
        "id": "3MZwdgedNCjD",
        "outputId": "41b3fb55-4f1c-43d9-d64d-f4ec375a567c"
      },
      "outputs": [
        {
          "name": "stdout",
          "output_type": "stream",
          "text": [
            "speed of car is high\n"
          ]
        }
      ],
      "source": [
        "#without staticmethod\n",
        "class car:\n",
        "\n",
        "  def speed(self):\n",
        "    print(\"speed of car is high\")\n",
        "\n",
        "bmw=car()\n",
        "bmw.speed()"
      ]
    },
    {
      "cell_type": "code",
      "execution_count": null,
      "metadata": {
        "colab": {
          "base_uri": "https://localhost:8080/"
        },
        "id": "eKuJFweyNqIK",
        "outputId": "7f127754-d02b-4dc8-e63a-66827a6fe557"
      },
      "outputs": [
        {
          "name": "stdout",
          "output_type": "stream",
          "text": [
            "speed of car is high\n"
          ]
        }
      ],
      "source": [
        "#staticmethod\n",
        "class car:\n",
        "\n",
        "  @staticmethod\n",
        "  def speed():\n",
        "    print(\"speed of car is high\")\n",
        "car.speed()"
      ]
    },
    {
      "cell_type": "code",
      "execution_count": null,
      "metadata": {
        "colab": {
          "base_uri": "https://localhost:8080/"
        },
        "id": "tUTOkuD9OH9b",
        "outputId": "ed485dec-30a1-4d21-ae24-5f340a4bcf5d"
      },
      "outputs": [
        {
          "name": "stdout",
          "output_type": "stream",
          "text": [
            "function of class a\n",
            "function of class b\n"
          ]
        }
      ],
      "source": [
        "#single inheritance\n",
        "class a:\n",
        "  def funca(self):\n",
        "    print(\"function of class a\")\n",
        "\n",
        "class b(a):\n",
        "  def funcb(self):\n",
        "    print(\"function of class b\")\n",
        "objb=b()\n",
        "objb.funca()\n",
        "objb.funcb()"
      ]
    },
    {
      "cell_type": "code",
      "execution_count": null,
      "metadata": {
        "colab": {
          "base_uri": "https://localhost:8080/"
        },
        "id": "M5wkuxigPJnX",
        "outputId": "9d6b2928-f1fa-4afc-f0b9-7ba6b239b55b"
      },
      "outputs": [
        {
          "name": "stdout",
          "output_type": "stream",
          "text": [
            "function of class a\n",
            "function of class b\n",
            "..............\n",
            "function of class a\n",
            "function of class b\n",
            "function of class c\n"
          ]
        }
      ],
      "source": [
        "#multilevel inheritance\n",
        "class a:\n",
        "  def funca(self):\n",
        "    print(\"function of class a\")\n",
        "\n",
        "class b(a):\n",
        "  def funcb(self):\n",
        "    print(\"function of class b\")\n",
        "\n",
        "class c(b):\n",
        "  def funcc(self):\n",
        "    print(\"function of class c\")\n",
        "objb=b()\n",
        "objb.funca()\n",
        "objb.funcb()\n",
        "print(\"..............\")\n",
        "objc=c()\n",
        "objc.funca()\n",
        "objc.funcb()\n",
        "objc.funcc()"
      ]
    },
    {
      "cell_type": "code",
      "execution_count": null,
      "metadata": {
        "colab": {
          "base_uri": "https://localhost:8080/"
        },
        "id": "arGMcOa2QuCH",
        "outputId": "12e9e146-98bb-444e-dc42-466b46264f02"
      },
      "outputs": [
        {
          "name": "stdout",
          "output_type": "stream",
          "text": [
            "function of class a\n",
            "function of class b\n",
            "...............\n",
            "function of class a\n",
            "function of class c\n",
            "..............\n",
            "function of class a\n",
            "function of class d\n"
          ]
        }
      ],
      "source": [
        "#hierarchial inheritance\n",
        "class a:\n",
        "  def funca(self):\n",
        "    print(\"function of class a\")\n",
        "class b(a):\n",
        "  def funcb(self):\n",
        "    print(\"function of class b\")\n",
        "class c(a):\n",
        "  def funcc(self):\n",
        "    print(\"function of class c\")\n",
        "class d(a):\n",
        "  def funcd(self):\n",
        "    print(\"function of class d\")\n",
        "objb=b()\n",
        "objb.funca()\n",
        "objb.funcb()\n",
        "print(\"...............\")\n",
        "objc=c()\n",
        "objc.funca()\n",
        "objc.funcc()\n",
        "print(\"..............\")\n",
        "objd=d()\n",
        "objd.funca()\n",
        "objd.funcd()"
      ]
    },
    {
      "cell_type": "code",
      "execution_count": null,
      "metadata": {
        "colab": {
          "base_uri": "https://localhost:8080/"
        },
        "id": "LBoDkbAbSePl",
        "outputId": "6a58d14e-a0db-45b1-9d36-b1df9bced1d1"
      },
      "outputs": [
        {
          "name": "stdout",
          "output_type": "stream",
          "text": [
            "function of class a\n",
            "function of class b\n",
            "function of class c\n"
          ]
        }
      ],
      "source": [
        "#multiple inheritance\n",
        "class a:\n",
        "  def funca(self):\n",
        "    print(\"function of class a\")\n",
        "class b:\n",
        "  def funcb(self):\n",
        "    print(\"function of class b\")\n",
        "class c(a,b):\n",
        "  def funcc(self):\n",
        "    print(\"function of class c\")\n",
        "objc=c()\n",
        "objc.funca()\n",
        "objc.funcb()\n",
        "objc.funcc()"
      ]
    },
    {
      "cell_type": "code",
      "execution_count": null,
      "metadata": {
        "colab": {
          "base_uri": "https://localhost:8080/"
        },
        "id": "7QvSapwXTrbG",
        "outputId": "f801d199-91ff-4a1e-a14e-4798c21cd630"
      },
      "outputs": [
        {
          "name": "stdout",
          "output_type": "stream",
          "text": [
            "function of class a\n",
            "function of class b\n",
            "function of class c\n",
            "function of class d\n"
          ]
        }
      ],
      "source": [
        "#hybrid inheritance\n",
        "class a:\n",
        "  def funca(self):\n",
        "    print(\"function of class a\")\n",
        "class b(a):\n",
        "  def funcb(self):\n",
        "    print(\"function of class b\")\n",
        "class c:\n",
        "  def funcc(self):\n",
        "    print(\"function of class c\")\n",
        "class d(b,c):\n",
        "  def funcd(self):\n",
        "    print(\"function of class d\")\n",
        "objd=d()\n",
        "objd.funca()\n",
        "objd.funcb()\n",
        "objd.funcc()\n",
        "objd.funcd()"
      ]
    },
    {
      "cell_type": "code",
      "execution_count": null,
      "metadata": {
        "colab": {
          "base_uri": "https://localhost:8080/"
        },
        "id": "ZQII4q9zVNdK",
        "outputId": "ddf64b57-85c9-4523-bc2d-d37983248450"
      },
      "outputs": [
        {
          "name": "stdout",
          "output_type": "stream",
          "text": [
            "function of class a\n",
            "function of class b\n",
            "function of class c\n",
            "function of class d\n"
          ]
        }
      ],
      "source": [
        "#multipart inheretance\n",
        "class a:\n",
        "  def funca(self):\n",
        "    print(\"function of class a\")\n",
        "class b(a):\n",
        "  def funcb(self):\n",
        "    print(\"function of class b\")\n",
        "class d(a):\n",
        "  def funcd(self):\n",
        "    print(\"function of class d\")\n",
        "class c(b,d,a):\n",
        "  def funcc(self):\n",
        "    print(\"function of class c\")\n",
        "objc=c()\n",
        "objc.funca()\n",
        "objc.funcb()\n",
        "objc.funcc()\n",
        "objc.funcd()\n"
      ]
    },
    {
      "cell_type": "code",
      "execution_count": null,
      "metadata": {
        "colab": {
          "base_uri": "https://localhost:8080/"
        },
        "id": "jmrBTeiygEAa",
        "outputId": "11e8f160-bece-4c63-b91e-c539feb552f3"
      },
      "outputs": [
        {
          "name": "stdout",
          "output_type": "stream",
          "text": [
            "employee walks speedily\n"
          ]
        }
      ],
      "source": [
        "#method overriding\n",
        "class person:\n",
        "  def walkn(self):\n",
        "    print(\"person walks slowly\")\n",
        "class employee(person):\n",
        "  def walk(self):\n",
        "    print(\"employee walks speedily\")\n",
        "e=employee()\n",
        "e.walk()"
      ]
    },
    {
      "cell_type": "code",
      "execution_count": null,
      "metadata": {
        "colab": {
          "base_uri": "https://localhost:8080/"
        },
        "id": "bIzTZK5khBiW",
        "outputId": "057a4853-39ed-426f-e06e-400fed3aac32"
      },
      "outputs": [
        {
          "data": {
            "text/plain": [
              "6"
            ]
          },
          "execution_count": 2,
          "metadata": {},
          "output_type": "execute_result"
        }
      ],
      "source": [
        "#operator overloding\n",
        "3+3"
      ]
    },
    {
      "cell_type": "code",
      "execution_count": null,
      "metadata": {
        "colab": {
          "base_uri": "https://localhost:8080/",
          "height": 36
        },
        "id": "UdcyQrvyhRFv",
        "outputId": "3583d82f-39e8-492e-a390-b812e0fbc123"
      },
      "outputs": [
        {
          "data": {
            "application/vnd.google.colaboratory.intrinsic+json": {
              "type": "string"
            },
            "text/plain": [
              "'33'"
            ]
          },
          "execution_count": 3,
          "metadata": {},
          "output_type": "execute_result"
        }
      ],
      "source": [
        "\"3\"+\"3\""
      ]
    },
    {
      "cell_type": "code",
      "execution_count": null,
      "metadata": {
        "colab": {
          "base_uri": "https://localhost:8080/",
          "height": 36
        },
        "id": "p5pTk7dZhWah",
        "outputId": "2780f073-2c09-4ea4-b6f9-5aee29dc0cb1"
      },
      "outputs": [
        {
          "data": {
            "application/vnd.google.colaboratory.intrinsic+json": {
              "type": "string"
            },
            "text/plain": [
              "'nipunatechnologies'"
            ]
          },
          "execution_count": 4,
          "metadata": {},
          "output_type": "execute_result"
        }
      ],
      "source": [
        "\"nipuna\"+\"technologies\""
      ]
    },
    {
      "cell_type": "code",
      "execution_count": null,
      "metadata": {
        "colab": {
          "base_uri": "https://localhost:8080/"
        },
        "id": "GhPhAU53hibV",
        "outputId": "e9d7e2fa-8d4a-40e0-b790-c8ced0ab5420"
      },
      "outputs": [
        {
          "data": {
            "text/plain": [
              "[1, 2, 3, 4, 5, 6]"
            ]
          },
          "execution_count": 5,
          "metadata": {},
          "output_type": "execute_result"
        }
      ],
      "source": [
        "[1,2,3]+[4,5,6]"
      ]
    },
    {
      "cell_type": "code",
      "execution_count": null,
      "metadata": {
        "colab": {
          "base_uri": "https://localhost:8080/"
        },
        "id": "CSXdLK_GhqWl",
        "outputId": "950dc5ce-029c-4f00-9726-7f1fab47768c"
      },
      "outputs": [
        {
          "data": {
            "text/plain": [
              "6"
            ]
          },
          "execution_count": 6,
          "metadata": {},
          "output_type": "execute_result"
        }
      ],
      "source": [
        "3*2"
      ]
    },
    {
      "cell_type": "code",
      "execution_count": null,
      "metadata": {
        "colab": {
          "base_uri": "https://localhost:8080/",
          "height": 36
        },
        "id": "8Tce28Knhvfk",
        "outputId": "e815ee79-fc37-44e4-d1d8-10f1edc28c81"
      },
      "outputs": [
        {
          "data": {
            "application/vnd.google.colaboratory.intrinsic+json": {
              "type": "string"
            },
            "text/plain": [
              "'nipunanipunanipuna'"
            ]
          },
          "execution_count": 7,
          "metadata": {},
          "output_type": "execute_result"
        }
      ],
      "source": [
        "\"nipuna\"*3"
      ]
    },
    {
      "cell_type": "code",
      "execution_count": null,
      "metadata": {
        "colab": {
          "base_uri": "https://localhost:8080/"
        },
        "id": "DUfpvU6sbMAL",
        "outputId": "b6377023-e8df-45ca-f774-6b152e6ee1c9"
      },
      "outputs": [
        {
          "name": "stdout",
          "output_type": "stream",
          "text": [
            "(3, 5)\n"
          ]
        }
      ],
      "source": [
        "#operator over loding\n",
        "class complex:\n",
        "  def __init__(self,a,b):\n",
        "    self.a=a\n",
        "    self.b=b\n",
        "  def __add__(self,other):\n",
        "    return self.a+other.a,self.b+other.b\n",
        "ob1=complex(1,2)\n",
        "ob2=complex(2,3)\n",
        "ob3=ob1+ob2\n",
        "print(ob3)"
      ]
    },
    {
      "cell_type": "code",
      "execution_count": null,
      "metadata": {
        "colab": {
          "base_uri": "https://localhost:8080/",
          "height": 286
        },
        "id": "EELelMwzmq2M",
        "outputId": "c7ad0a5b-bea4-48e5-abb3-68ea35953228"
      },
      "outputs": [
        {
          "name": "stdout",
          "output_type": "stream",
          "text": [
            "begin\n",
            "ready to do division\n"
          ]
        },
        {
          "ename": "ZeroDivisionError",
          "evalue": "ignored",
          "output_type": "error",
          "traceback": [
            "\u001b[0;31m---------------------------------------------------------------------------\u001b[0m",
            "\u001b[0;31mZeroDivisionError\u001b[0m                         Traceback (most recent call last)",
            "\u001b[0;32m<ipython-input-7-722302b3b23a>\u001b[0m in \u001b[0;36m<cell line: 4>\u001b[0;34m()\u001b[0m\n\u001b[1;32m      2\u001b[0m \u001b[0mprint\u001b[0m\u001b[0;34m(\u001b[0m\u001b[0;34m\"begin\"\u001b[0m\u001b[0;34m)\u001b[0m\u001b[0;34m\u001b[0m\u001b[0;34m\u001b[0m\u001b[0m\n\u001b[1;32m      3\u001b[0m \u001b[0mprint\u001b[0m\u001b[0;34m(\u001b[0m\u001b[0;34m\"ready to do division\"\u001b[0m\u001b[0;34m)\u001b[0m\u001b[0;34m\u001b[0m\u001b[0;34m\u001b[0m\u001b[0m\n\u001b[0;32m----> 4\u001b[0;31m \u001b[0mc\u001b[0m\u001b[0;34m=\u001b[0m\u001b[0ma\u001b[0m\u001b[0;34m/\u001b[0m\u001b[0mb\u001b[0m\u001b[0;34m\u001b[0m\u001b[0;34m\u001b[0m\u001b[0m\n\u001b[0m\u001b[1;32m      5\u001b[0m \u001b[0mprint\u001b[0m\u001b[0;34m(\u001b[0m\u001b[0;34m\"result=\"\u001b[0m\u001b[0;34m,\u001b[0m\u001b[0mc\u001b[0m\u001b[0;34m)\u001b[0m\u001b[0;34m\u001b[0m\u001b[0;34m\u001b[0m\u001b[0m\n\u001b[1;32m      6\u001b[0m \u001b[0mprint\u001b[0m\u001b[0;34m(\u001b[0m\u001b[0;34m\"division completed\"\u001b[0m\u001b[0;34m)\u001b[0m\u001b[0;34m\u001b[0m\u001b[0;34m\u001b[0m\u001b[0m\n",
            "\u001b[0;31mZeroDivisionError\u001b[0m: division by zero"
          ]
        }
      ],
      "source": [
        "#program without exception handling\n",
        "a=100;b=0\n",
        "print(\"begin\")\n",
        "print(\"ready to do division\")\n",
        "c=a/b #exception will raise here\n",
        "print(\"result=\",c)\n",
        "print(\"division completed\")\n",
        "print(\"end\")"
      ]
    },
    {
      "cell_type": "code",
      "execution_count": null,
      "metadata": {
        "colab": {
          "base_uri": "https://localhost:8080/"
        },
        "id": "FKIiwAHaol9G",
        "outputId": "957eb667-7927-4a30-a94f-271d7d71398e"
      },
      "outputs": [
        {
          "name": "stdout",
          "output_type": "stream",
          "text": [
            "begin\n",
            "ready to do division\n",
            "result= 50.0\n",
            "division completed\n",
            "end\n",
            "success\n",
            "completed the code\n"
          ]
        }
      ],
      "source": [
        "#program with excepion handling (try..except..else..finally)\n",
        "a=100;b=2\n",
        "try:\n",
        "  print(\"begin\")\n",
        "  print(\"ready to do division\")\n",
        "  c=a/b      #exception will raise here\n",
        "  print(\"result=\",c)\n",
        "  print(\"division completed\")\n",
        "  print(\"end\")\n",
        "except:\n",
        "  print(\"you cannot divide a number with zero\")\n",
        "else:\n",
        "  print(\"success\")\n",
        "finally:\n",
        "  print(\"completed the code\")"
      ]
    },
    {
      "cell_type": "code",
      "execution_count": null,
      "metadata": {
        "colab": {
          "base_uri": "https://localhost:8080/"
        },
        "id": "nL-3D6vzp3CS",
        "outputId": "a4f0c141-26d0-43af-8a3f-54a4fae8262e"
      },
      "outputs": [
        {
          "name": "stdout",
          "output_type": "stream",
          "text": [
            "enter your age..:20\n",
            "eligible to vote\n",
            "ask others to vote\n"
          ]
        }
      ],
      "source": [
        "#user defined exception\n",
        "class Error (Exception):\n",
        "  pass\n",
        "class invalidageerror(Error):\n",
        "  pass\n",
        "try:\n",
        "  age=int(input(\"enter your age..:\"))\n",
        "  if(age<18):\n",
        "    raise invalidageerror\n",
        "  else:\n",
        "    print(\"eligible to vote\")\n",
        "except:\n",
        "  print(\"you are not eligible to vote\")\n",
        "finally:\n",
        "  print(\"ask others to vote\")"
      ]
    },
    {
      "cell_type": "code",
      "execution_count": null,
      "metadata": {
        "id": "pTq5MSx7AnHe"
      },
      "outputs": [],
      "source": [
        "#program to write data to a binary file\n",
        "import pickle\n",
        "x=[101,\"anil\",3555.76,'b']\n",
        "f=open(\"emp.dat\",\"wb\")\n",
        "pickle. dump(x,f)\n",
        "f.close()"
      ]
    },
    {
      "cell_type": "code",
      "execution_count": null,
      "metadata": {
        "colab": {
          "base_uri": "https://localhost:8080/"
        },
        "id": "ZW8NXRNABDFQ",
        "outputId": "2c50f85c-cba0-4878-f338-5b9661d85ac7"
      },
      "outputs": [
        {
          "name": "stdout",
          "output_type": "stream",
          "text": [
            "101anil3555.76b"
          ]
        }
      ],
      "source": [
        "#program to read data from a file\n",
        "import pickle\n",
        "file=open('emp.dat','rb')\n",
        "data=pickle.load(file)\n",
        "file.close()\n",
        "cnt=0\n",
        "for item in data:\n",
        "  print(item,end=\"\")\n",
        "  cnt+=1"
      ]
    },
    {
      "cell_type": "code",
      "execution_count": null,
      "metadata": {
        "colab": {
          "base_uri": "https://localhost:8080/"
        },
        "id": "y-a3nJzGEf04",
        "outputId": "205259b2-5e9c-41f7-a419-c5b6043bcd7b"
      },
      "outputs": [
        {
          "name": "stdout",
          "output_type": "stream",
          "text": [
            "the calender of year 2018 is:\n",
            "calendar:calendar(2018)\n"
          ]
        }
      ],
      "source": [
        "#program to display calender for the specified year\n",
        "import calendar\n",
        "print(\"the calender of year 2018 is:\")\n",
        "print(\"calendar:calendar(2018)\")"
      ]
    },
    {
      "cell_type": "code",
      "execution_count": null,
      "metadata": {
        "colab": {
          "base_uri": "https://localhost:8080/"
        },
        "id": "vDMhu0tgFUdB",
        "outputId": "ecb13d8b-fe37-4f4a-d4cd-ce9f603045f8"
      },
      "outputs": [
        {
          "name": "stdout",
          "output_type": "stream",
          "text": [
            "calender.month(yy,mm)\n"
          ]
        }
      ],
      "source": [
        "#program to display calender for the specified moth in a specified year\n",
        "import calendar\n",
        "yy=2017\n",
        "mm=11\n",
        "print(\"calender.month(yy,mm)\")"
      ]
    },
    {
      "cell_type": "code",
      "execution_count": null,
      "metadata": {
        "colab": {
          "base_uri": "https://localhost:8080/"
        },
        "id": "nxr6GHI8FySi",
        "outputId": "cc73218d-6b44-4212-a678-f934db59a0c3"
      },
      "outputs": [
        {
          "name": "stdout",
          "output_type": "stream",
          "text": [
            "date 2023-10-01\n"
          ]
        }
      ],
      "source": [
        "#program to print date\n",
        "from datetime import date\n",
        "d=date.today()\n",
        "print(\"date\",d)"
      ]
    },
    {
      "cell_type": "code",
      "execution_count": null,
      "metadata": {
        "colab": {
          "base_uri": "https://localhost:8080/"
        },
        "id": "uv979E1OGalw",
        "outputId": "afc2e2e6-b69b-45bf-c6a6-834ab5fd58c1"
      },
      "outputs": [
        {
          "name": "stdout",
          "output_type": "stream",
          "text": [
            "year= 2023\n",
            "month= 10\n",
            "date= 1\n",
            "2023 / 10 / 1\n"
          ]
        }
      ],
      "source": [
        " #program to print current date with separator\n",
        " from datetime import date\n",
        " d=date.today()\n",
        " print(\"year=\",d.year)\n",
        " print(\"month=\",d.month)\n",
        " print(\"date=\",d.day)\n",
        " print(d.year,'/',d.month,'/',d.day)"
      ]
    },
    {
      "cell_type": "code",
      "execution_count": null,
      "metadata": {
        "colab": {
          "base_uri": "https://localhost:8080/"
        },
        "id": "3zsio8QlHXci",
        "outputId": "31b1f193-5e99-4d73-8e74-00b34759b170"
      },
      "outputs": [
        {
          "name": "stdout",
          "output_type": "stream",
          "text": [
            "current date and time is 2023-10-01 10:09:50.297162\n"
          ]
        }
      ],
      "source": [
        "#print current date and time\n",
        "from datetime import datetime\n",
        "x=datetime.now()\n",
        "print(\"current date and time is\",x)"
      ]
    }
  ],
  "metadata": {
    "colab": {
      "provenance": [],
      "include_colab_link": true
    },
    "kernelspec": {
      "display_name": "Python 3",
      "name": "python3"
    },
    "language_info": {
      "name": "python"
    }
  },
  "nbformat": 4,
  "nbformat_minor": 0
}